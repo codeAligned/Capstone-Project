{
 "cells": [
  {
   "cell_type": "markdown",
   "metadata": {},
   "source": [
    "# Import Data"
   ]
  },
  {
   "cell_type": "code",
   "execution_count": 1,
   "metadata": {},
   "outputs": [],
   "source": [
    "# import packages\n",
    "import pandas as pd\n",
    "import numpy as np\n",
    "import os\n",
    "import math\n",
    "import matplotlib.pyplot as plt \n",
    "import seaborn as sns\n",
    "import statsmodels.api as sm\n",
    "%matplotlib inline"
   ]
  },
  {
   "cell_type": "code",
   "execution_count": 2,
   "metadata": {},
   "outputs": [],
   "source": [
    "os.chdir('~/Users/Leon/Desktop/Capstone/dataset')"
   ]
  },
  {
   "cell_type": "code",
   "execution_count": 3,
   "metadata": {},
   "outputs": [],
   "source": [
    "# read in data\n",
    "df_train = pd.read_csv('train.csv', parse_dates = ['AP005'])\n",
    "df_test = pd.read_csv('test.csv', parse_dates = ['AP005'])"
   ]
  },
  {
   "cell_type": "code",
   "execution_count": 4,
   "metadata": {},
   "outputs": [],
   "source": [
    "# create copies of original dataset\n",
    "train = df_train.copy()\n",
    "test = df_test.copy()"
   ]
  },
  {
   "cell_type": "code",
   "execution_count": 5,
   "metadata": {},
   "outputs": [],
   "source": [
    "# drop the date column\n",
    "train = train.drop(columns = ['AP005'])\n",
    "test = test.drop(columns = ['AP005'])"
   ]
  },
  {
   "cell_type": "markdown",
   "metadata": {},
   "source": [
    "# Data Cleaning"
   ]
  },
  {
   "cell_type": "markdown",
   "metadata": {},
   "source": [
    "## Remove Outliers"
   ]
  },
  {
   "cell_type": "markdown",
   "metadata": {},
   "source": [
    "### MB001  \n",
    "CNT_CONTACT 0-69665  \n",
    "remove outliers "
   ]
  },
  {
   "cell_type": "code",
   "execution_count": null,
   "metadata": {},
   "outputs": [],
   "source": [
    "sns.distplot(train['MB001']);\n",
    "train['MB001'].describe()"
   ]
  },
  {
   "cell_type": "code",
   "execution_count": null,
   "metadata": {},
   "outputs": [],
   "source": [
    "MB001_selected = train[train['MB001']>0]\n",
    "threshold=np.percentile(MB001_selected['MB001'],90)\n",
    "threshold"
   ]
  },
  {
   "cell_type": "code",
   "execution_count": null,
   "metadata": {},
   "outputs": [],
   "source": [
    "train[train['MB001']>threshold]['MB001'].tolist()"
   ]
  },
  {
   "cell_type": "code",
   "execution_count": null,
   "metadata": {},
   "outputs": [],
   "source": [
    "train['MB001']= train['MB001'].replace(train[train['MB001']>threshold]['MB001'].tolist(), threshold)"
   ]
  },
  {
   "cell_type": "code",
   "execution_count": null,
   "metadata": {},
   "outputs": [],
   "source": [
    "train['MB001'].describe()"
   ]
  },
  {
   "cell_type": "code",
   "execution_count": null,
   "metadata": {},
   "outputs": [],
   "source": [
    "def winsorize(x):\n",
    "    a=np.array(x)\n",
    "    upper_quaritle = np.percentile(a,75)\n",
    "    for y in a.tolist():\n",
    "        if y > = upper_quartile:\n",
    "            a[y] = upper_quartile\n",
    "    return a.tolist()"
   ]
  },
  {
   "cell_type": "code",
   "execution_count": null,
   "metadata": {},
   "outputs": [],
   "source": [
    "test['MB001']= test['MB001'].replace(test[test['MB001']>threshold]['MB001'].tolist(), threshold)"
   ]
  },
  {
   "cell_type": "code",
   "execution_count": null,
   "metadata": {},
   "outputs": [],
   "source": [
    "test['MB001'].describe()"
   ]
  },
  {
   "cell_type": "markdown",
   "metadata": {},
   "source": [
    "### MB002\t\n",
    "Numeric\tCNT_CONTACT_HIT_CREDIT_RULE 0-79 (20,79)"
   ]
  },
  {
   "cell_type": "code",
   "execution_count": null,
   "metadata": {},
   "outputs": [],
   "source": [
    "sns.distplot(train['MB002']);"
   ]
  },
  {
   "cell_type": "code",
   "execution_count": null,
   "metadata": {},
   "outputs": [],
   "source": [
    "train['MB002'] = train['MB002'].replace(train['MB002'].max(),20)"
   ]
  },
  {
   "cell_type": "code",
   "execution_count": null,
   "metadata": {},
   "outputs": [],
   "source": [
    "test['MB002'].describe()"
   ]
  },
  {
   "cell_type": "markdown",
   "metadata": {},
   "source": [
    "### CR009\n",
    "Numeric\tAMT_LOAN_TOTAL 0,200 replace 0,200 with mean"
   ]
  },
  {
   "cell_type": "code",
   "execution_count": null,
   "metadata": {},
   "outputs": [],
   "source": [
    "sns.distplot(train['CR009']);"
   ]
  },
  {
   "cell_type": "code",
   "execution_count": null,
   "metadata": {},
   "outputs": [],
   "source": [
    "train['CR009'].describe()"
   ]
  },
  {
   "cell_type": "code",
   "execution_count": null,
   "metadata": {},
   "outputs": [],
   "source": [
    "CR009_selected = train[train['CR009']>0]\n",
    "threshold = np.percentile(CR009_selected['CR009'],90)\n",
    "threshold"
   ]
  },
  {
   "cell_type": "code",
   "execution_count": null,
   "metadata": {},
   "outputs": [],
   "source": [
    "train['CR009']= train['CR009'].replace(train[train['CR009']>threshold]['CR009'].tolist(), threshold)"
   ]
  },
  {
   "cell_type": "code",
   "execution_count": null,
   "metadata": {},
   "outputs": [],
   "source": [
    "train['CR009'].describe()"
   ]
  },
  {
   "cell_type": "code",
   "execution_count": null,
   "metadata": {},
   "outputs": [],
   "source": [
    "test['CR009']= test['CR009'].replace(test[test['CR009']>threshold]['CR009'].tolist(), threshold)"
   ]
  },
  {
   "cell_type": "code",
   "execution_count": null,
   "metadata": {},
   "outputs": [],
   "source": [
    "test['CR009'].describe()"
   ]
  },
  {
   "cell_type": "markdown",
   "metadata": {},
   "source": [
    "### CR020\t\n",
    "Numeric\tHIGHEST_MONTHLY_LOAN_AMT 0,30,45"
   ]
  },
  {
   "cell_type": "code",
   "execution_count": null,
   "metadata": {},
   "outputs": [],
   "source": [
    "train['CR020'].describe()"
   ]
  },
  {
   "cell_type": "code",
   "execution_count": null,
   "metadata": {},
   "outputs": [],
   "source": [
    "positive = train[train['CR020']>0]\n",
    "threshold = np.percentile(positive['CR020'],90)\n",
    "threshold"
   ]
  },
  {
   "cell_type": "code",
   "execution_count": null,
   "metadata": {},
   "outputs": [],
   "source": [
    "train['CR020']= train['CR020'].replace(train[train['CR020']>threshold]['CR020'].tolist(), threshold)"
   ]
  },
  {
   "cell_type": "code",
   "execution_count": null,
   "metadata": {},
   "outputs": [],
   "source": [
    "train['CR020'].describe()"
   ]
  },
  {
   "cell_type": "code",
   "execution_count": null,
   "metadata": {},
   "outputs": [],
   "source": [
    "test['CR020']= test['CR020'].replace(test[test['CR020']>threshold]['CR020'].tolist(), threshold)\n",
    "test['CR020'].describe()"
   ]
  },
  {
   "cell_type": "markdown",
   "metadata": {},
   "source": [
    "### CR021\t\n",
    "Numeric\tHIGHEST_CREDIT_CARD_LINE (change - to +)"
   ]
  },
  {
   "cell_type": "code",
   "execution_count": null,
   "metadata": {},
   "outputs": [],
   "source": [
    "sns.distplot(train['CR021']);"
   ]
  },
  {
   "cell_type": "code",
   "execution_count": null,
   "metadata": {},
   "outputs": [],
   "source": [
    "train['CR021'].describe()"
   ]
  },
  {
   "cell_type": "code",
   "execution_count": null,
   "metadata": {},
   "outputs": [],
   "source": [
    "threshold=np.percentile(train['CR021'],90)\n",
    "print(threshold)\n",
    "train['CR021']= train['CR021'].replace(train[train['CR021']>threshold]['CR021'].tolist(), threshold)"
   ]
  },
  {
   "cell_type": "code",
   "execution_count": null,
   "metadata": {},
   "outputs": [],
   "source": [
    "train['CR021'].describe()"
   ]
  },
  {
   "cell_type": "code",
   "execution_count": null,
   "metadata": {},
   "outputs": [],
   "source": [
    "test['CR021']= test['CR021'].replace(test[test['CR021']>threshold]['CR021'].tolist(), threshold)\n",
    "test['CR021'].describe()"
   ]
  },
  {
   "cell_type": "markdown",
   "metadata": {},
   "source": [
    "### MB006\t\n",
    "Categoric\tMOBILE_BRAND 0,360,blank\n"
   ]
  },
  {
   "cell_type": "code",
   "execution_count": null,
   "metadata": {},
   "outputs": [],
   "source": [
    "train['MB006'].value_counts()"
   ]
  },
  {
   "cell_type": "code",
   "execution_count": null,
   "metadata": {},
   "outputs": [],
   "source": [
    "listna=list(train[train['MB006'].isna()].index)"
   ]
  },
  {
   "cell_type": "code",
   "execution_count": null,
   "metadata": {},
   "outputs": [],
   "source": [
    "weights=['APPLE']*31304+['0']*12024+['OPPO']*10473+['VIVO']*9396+['HUAWEI']*8791+['XIAOMI']*2552+['SAMSUNG']*1796+['MEIZU']*719+['GIONEE']*653+['LEECO']*270+['360']*157+['COOLPAD']*40b"
   ]
  },
  {
   "cell_type": "code",
   "execution_count": null,
   "metadata": {},
   "outputs": [],
   "source": [
    "import random\n",
    "for i in listna:\n",
    "    train['MB006'][i]=random.choice(weights) "
   ]
  },
  {
   "cell_type": "code",
   "execution_count": null,
   "metadata": {},
   "outputs": [],
   "source": [
    "train['MB006'].value_counts()"
   ]
  },
  {
   "cell_type": "code",
   "execution_count": null,
   "metadata": {},
   "outputs": [],
   "source": [
    "listna=list(test[test['MB006'].isna()].index)\n",
    "\n",
    "for i in listna:\n",
    "    test['MB006'][i]=random.choice(weights)\n",
    "    \n",
    "test['MB006'].value_counts()"
   ]
  },
  {
   "cell_type": "code",
   "execution_count": null,
   "metadata": {},
   "outputs": [],
   "source": [
    "train['MB006'] = train['MB006'].astype('category')\n",
    "train['MB006'] = train['MB006'].cat.codes\n",
    "\n",
    "test['MB006'] = test['MB006'].astype('category')\n",
    "test['MB006'] = test['MB006'].cat.codes"
   ]
  },
  {
   "cell_type": "markdown",
   "metadata": {},
   "source": [
    "### AP006"
   ]
  },
  {
   "cell_type": "code",
   "execution_count": null,
   "metadata": {},
   "outputs": [],
   "source": [
    "train['AP006'].value_counts()"
   ]
  },
  {
   "cell_type": "code",
   "execution_count": null,
   "metadata": {},
   "outputs": [],
   "source": [
    "train['AP006'] = train['AP006'].astype('category')\n",
    "train['AP006'] = train['AP006'].cat.codes\n",
    "\n",
    "test['AP006'] = test['AP006'].astype('category')\n",
    "test['AP006'] = test['AP006'].cat.codes"
   ]
  },
  {
   "cell_type": "markdown",
   "metadata": {},
   "source": [
    "### -99"
   ]
  },
  {
   "cell_type": "markdown",
   "metadata": {},
   "source": [
    "PA001\tNumeric\tCNT_COLLECTION_OR_HIGH_RISK_ORG -99\n",
    "PA002\tNumeric\tCNT_COLLECTION_ORG -99\n",
    "PA003\tNumeric\tCNT_HIGH_RISK_ORG -99\n",
    "PA004\tNumeric\tCNT_COLLECTION_OR_HIGH_RISK_INBOUND_CALLS -99\n",
    "PA005\tNumeric\tCNT_COLLECTION_INBOUND_CALLS -99\n",
    "PA006\tNumeric\tCNT_HIGH_RISK_INBOUND_CALLS -99\n",
    "PA007\tNumeric\tLEN_COLLECTION_OR_HIGH_RISK_INBOUND_CALLS -99\n",
    "PA008\tNumeric\tLEN_COLLECTION_INBOUND_CALLS -99\n",
    "PA009\tNumeric\tLEN_HIGH_RISK_INBOUND_CALLS -99\n",
    "PA010\tNumeric\tCNT_COLLECTION_OR_HIGH_RISK_OUTBOUND_CALLS -99\n",
    "PA011\tNumeric\tCNT_COLLECTION_OUTBOUND_CALLS -99\n",
    "PA012\tNumeric\tCNT_HIGH_RISK_OUTBOUND_CALLS -99\n",
    "PA013\tNumeric\tLEN_COLLECTION_OR_HIGH_RISK_OUTBOUND_CALLS -99\n",
    "PA014\tNumeric\tLEN_COLLECTION_OUTBOUND_CALLS -99\n",
    "PA015\tNumeric\tLEN_HIGH_RISK_OUTBOUND_CALLS -99\n",
    "PA016\tNumeric\tCNT_COLLECTION_OR_HIGH_RISK_CALLS -99\n",
    "PA017\tNumeric\tCNT_COLLECTION_CALLS -99\n",
    "PA018\tNumeric\tCNT_HIGH_RISK_CALLS -99\n",
    "PA019\tNumeric\tLEN_COLLECTION_OR_HIGH_RISK_CALLS -99\n",
    "PA020\tNumeric\tLEN_COLLECTION_CALLS -99\n",
    "PA021\tNumeric\tLEN_HIGH_RISK_CALLS -99\n",
    "PA037\tNumeric\tCNT_COLLECTION_OR_HIGH_RISK_ORG_LAST_1MON -99\n",
    "PA038\tNumeric\tCNT_COLLECTION_ORG_LAST_1MON -99\n",
    "PA039\tNumeric\tCNT_HIGH_RISK_ORG_LAST_1MON -99\n",
    "PA040\tNumeric\tCNT_COLLECTION_OR_HIGH_RISK_INBOUND_CALLS_LAST_1MON -99\n",
    "PA041\tNumeric\tCNT_COLLECTION_INBOUND_CALLS_LAST_1MON -99\n",
    "PA042\tNumeric\tCNT_HIGH_RISK_INBOUND_CALLS_LAST_1MON -99\n",
    "PA043\tNumeric\tLEN_COLLECTION_OR_HIGH_RISK_INBOUND_CALLS_LAST_1MON -99\n",
    "PA044\tNumeric\tLEN_COLLECTION_INBOUND_CALLS_LAST_1MON -99\n",
    "PA045\tNumeric\tLEN_HIGH_RISK_INBOUND_CALLS_LAST_1MON -99\n",
    "PA046\tNumeric\tCNT_COLLECTION_OR_HIGH_RISK_OUTBOUND_CALLS_LAST_1MON -99\n",
    "PA047\tNumeric\tCNT_COLLECTION_OUTBOUND_CALLS_LAST_1MON -99\n",
    "PA048\tNumeric\tCNT_HIGH_RISK_OUTBOUND_CALLS_LAST_1MON -99\n",
    "PA049\tNumeric\tLEN_COLLECTION_OR_HIGH_RISK_OUTBOUND_CALLS_LAST_1MON -99\n",
    "PA050\tNumeric\tLEN_COLLECTION_OUTBOUND_CALLS_LAST_1MON -99\n",
    "PA051\tNumeric\tLEN_HIGH_RISK_OUTBOUND_CALLS_LAST_1MON -99\n",
    "PA052\tNumeric\tCNT_COLLECTION_OR_HIGH_RISK_CALLS_LAST_1MON -99\n",
    "PA053\tNumeric\tCNT_COLLECTION_CALLS_LAST_1MON -99\n",
    "PA054\tNumeric\tCNT_HIGH_RISK_CALLS_LAST_1MON -99\n",
    "PA055\tNumeric\tLEN_COLLECTION_OR_HIGH_RISK_CALLS_LAST_1MON -99\n",
    "PA056\tNumeric\tLEN_COLLECTION_CALLS_LAST_1MON -99\n",
    "PA057\tNumeric\tLEN_HIGH_RISK_CALLS_LAST_1MON -99\n",
    "PA058\tNumeric\tCNT_COLLECTION_OR_HIGH_RISK_ORG_LAST_2MON -99\n",
    "PA059\tNumeric\tCNT_COLLECTION_ORG_LAST_2MON -99\n",
    "PA060\tNumeric\tCNT_HIGH_RISK_ORG_LAST_2MON -99\n",
    "PA061\tNumeric\tCNT_COLLECTION_OR_HIGH_RISK_INBOUND_CALLS_LAST_2MON -99\n",
    "PA062\tNumeric\tCNT_COLLECTION_INBOUND_CALLS_LAST_2MON -99\n",
    "PA063\tNumeric\tCNT_HIGH_RISK_INBOUND_CALLS_LAST_2MON -99\n",
    "PA064\tNumeric\tLEN_COLLECTION_OR_HIGH_RISK_INBOUND_CALLS_LAST_2MON -99\n",
    "PA065\tNumeric\tLEN_COLLECTION_INBOUND_CALLS_LAST_2MON -99\n",
    "PA066\tNumeric\tLEN_HIGH_RISK_INBOUND_CALLS_LAST_2MON -99\n",
    "PA067\tNumeric\tCNT_COLLECTION_OR_HIGH_RISK_OUTBOUND_CALLS_LAST_2MON -99\n",
    "PA068\tNumeric\tCNT_COLLECTION_OUTBOUND_CALLS_LAST_2MON -99\n",
    "PA069\tNumeric\tCNT_HIGH_RISK_OUTBOUND_CALLS_LAST_2MON -99\n",
    "PA070\tNumeric\tLEN_COLLECTION_OR_HIGH_RISK_OUTBOUND_CALLS_LAST_2MON -99\n",
    "PA071\tNumeric\tLEN_COLLECTION_OUTBOUND_CALLS_LAST_2MON -99\n",
    "PA072\tNumeric\tLEN_HIGH_RISK_OUTBOUND_CALLS_LAST_2MON -99\n",
    "PA073\tNumeric\tCNT_COLLECTION_OR_HIGH_RISK_CALLS_LAST_2MON -99\n",
    "PA074\tNumeric\tCNT_COLLECTION_CALLS_LAST_2MON -99\n",
    "PA075\tNumeric\tCNT_HIGH_RISK_CALLS_LAST_2MON -99\n",
    "PA076\tNumeric\tLEN_COLLECTION_OR_HIGH_RISK_CALLS_LAST_2MON -99\n",
    "PA077\tNumeric\tLEN_COLLECTION_CALLS_LAST_2MON -99\n",
    "PA078\tNumeric\tLEN_HIGH_RISK_CALLS_LAST_2MON -99\n",
    "PA079\tNumeric\tCNT_COLLECTION_OR_HIGH_RISK_ORG_LAST_3MON -99\n",
    "PA080\tNumeric\tCNT_COLLECTION_ORG_LAST_3MON -99\n",
    "PA081\tNumeric\tCNT_HIGH_RISK_ORG_LAST_3MON -99\n",
    "PA082\tNumeric\tCNT_COLLECTION_OR_HIGH_RISK_INBOUND_CALLS_LAST_3MON -99\n",
    "PA083\tNumeric\tCNT_COLLECTION_INBOUND_CALLS_LAST_3MON -99\n",
    "PA084\tNumeric\tCNT_HIGH_RISK_INBOUND_CALLS_LAST_3MON -99\n",
    "PA085\tNumeric\tLEN_COLLECTION_OR_HIGH_RISK_INBOUND_CALLS_LAST_3MON -99\n",
    "PA086\tNumeric\tLEN_COLLECTION_INBOUND_CALLS_LAST_3MON -99\n",
    "PA087\tNumeric\tLEN_HIGH_RISK_INBOUND_CALLS_LAST_3MON -99\n",
    "PA088\tNumeric\tCNT_COLLECTION_OR_HIGH_RISK_OUTBOUND_CALLS_LAST_3MON -99\n",
    "PA089\tNumeric\tCNT_COLLECTION_OUTBOUND_CALLS_LAST_3MON -99\n",
    "PA090\tNumeric\tCNT_HIGH_RISK_OUTBOUND_CALLS_LAST_3MON -99\n",
    "PA091\tNumeric\tLEN_COLLECTION_OR_HIGH_RISK_OUTBOUND_CALLS_LAST_3MON -99\n",
    "PA092\tNumeric\tLEN_COLLECTION_OUTBOUND_CALLS_LAST_3MON -99\n",
    "PA093\tNumeric\tLEN_HIGH_RISK_OUTBOUND_CALLS_LAST_3MON -99\n",
    "PA094\tNumeric\tCNT_COLLECTION_OR_HIGH_RISK_CALLS_LAST_3MON -99\n",
    "PA095\tNumeric\tCNT_COLLECTION_CALLS_LAST_3MON -99\n",
    "PA096\tNumeric\tCNT_HIGH_RISK_CALLS_LAST_3MON -99\n",
    "PA097\tNumeric\tLEN_COLLECTION_OR_HIGH_RISK_CALLS_LAST_3MON -99\n",
    "PA098\tNumeric\tLEN_COLLECTION_CALLS_LAST_3MON -99\n",
    "PA099\tNumeric\tLEN_HIGH_RISK_CALLS_LAST_3MON -99\n",
    "CD004 - CD178  -99"
   ]
  },
  {
   "cell_type": "code",
   "execution_count": null,
   "metadata": {},
   "outputs": [],
   "source": [
    "negative99 = ['PA001','PA002','PA003','PA004','PA005','PA006','PA007','PA008','PA009','PA010','PA011','PA012','PA013','PA014',\n",
    "              'PA015','PA016','PA017','PA018','PA019','PA020','PA021','PA037','PA038','PA039','PA040','PA041','PA042','PA043',\n",
    "              'PA044','PA045','PA046','PA047','PA048','PA049','PA050','PA051','PA052','PA053','PA054','PA055','PA056','PA057',\n",
    "              'PA058','PA059','PA060','PA061','PA062','PA063','PA064','PA065','PA066','PA067','PA068','PA069','PA070','PA071',\n",
    "              'PA072','PA073','PA074','PA075','PA076','PA077','PA078','PA079','PA080','PA081','PA082','PA083','PA084','PA085',\n",
    "              'PA086','PA087','PA088','PA089','PA090','PA091','PA092','PA093','PA094','PA095','PA096','PA097','PA098','PA099',\n",
    "              'CD004','CD005','CD006','CD007','CD008','CD009','CD010','CD011','CD012','CD013','CD014','CD015','CD016','CD017',\n",
    "              'CD018','CD019','CD020','CD021','CD022','CD023','CD024','CD025','CD026','CD027','CD028','CD029','CD030','CD031',\n",
    "              'CD032','CD033','CD034','CD035','CD036','CD037','CD038','CD039','CD040','CD041','CD042','CD043','CD044','CD045',\n",
    "              'CD046','CD047','CD048','CD049','CD050','CD051','CD052','CD053','CD054','CD055','CD056','CD057','CD058','CD059',\n",
    "              'CD060','CD061','CD062','CD063','CD064','CD065','CD066','CD067','CD068','CD069','CD070','CD071','CD072','CD073',\n",
    "              'CD074','CD075','CD076','CD077','CD078','CD079','CD080','CD081','CD082','CD083','CD084','CD085','CD086','CD087',\n",
    "              'CD088','CD089','CD090','CD091','CD092','CD093','CD094','CD095','CD096','CD097','CD098','CD099','CD100','CD101',\n",
    "              'CD102','CD103','CD104','CD105','CD106','CD107','CD108','CD109','CD110','CD111','CD112','CD113','CD114','CD115',\n",
    "              'CD116','CD117','CD118','CD119','CD120','CD121','CD122','CD123','CD124','CD125','CD126','CD127','CD128','CD129',\n",
    "              'CD130','CD131','CD132','CD133','CD134','CD135','CD136','CD137','CD138','CD139','CD140','CD141','CD142','CD143',\n",
    "              'CD144','CD145','CD146','CD147','CD148','CD149','CD150','CD151','CD152','CD153','CD154','CD155','CD156','CD157',\n",
    "              'CD158','CD159','CD160','CD161','CD162','CD163','CD164','CD165','CD166','CD167','CD168','CD169','CD170','CD171',\n",
    "              'CD172','CD173','CD174','CD175','CD176','CD177','CD178']"
   ]
  },
  {
   "cell_type": "code",
   "execution_count": null,
   "metadata": {},
   "outputs": [],
   "source": [
    "for i in range(len(negative99)):\n",
    "    train[negative99[i]] = train[negative99[i]].replace(-99, np.nan)\n",
    "    test[negative99[i]] = test[negative99[i]].replace(-99, np.nan)"
   ]
  },
  {
   "cell_type": "markdown",
   "metadata": {},
   "source": [
    "### -99,-1"
   ]
  },
  {
   "cell_type": "markdown",
   "metadata": {},
   "source": [
    "PA022\tNumeric\tDAYS_BTW_APPLICATION_AND_FIRST_COLLECTION_OR_HIGH_RISK_CALL -99,-1\n",
    "PA023\tNumeric\tDAYS_BTW_APPLICATION_AND_FIRST_COLLECTION_CALL -99,-1\n",
    "PA024\tNumeric\tDAYS_BTW_APPLICATION_AND_FIRST_HIGH_RISK_CALL -99,-1\n",
    "PA025\tNumeric\tDAYS_BTW_APPLICATION_AND_LAST_COLLECTION_OR_HIGH_RISK_CALL -99,-1\n",
    "PA026\tNumeric\tDAYS_BTW_APPLICATION_AND_LAST_COLLECTION_CALL  -99,-1\n",
    "PA027\tNumeric\tDAYS_BTW_APPLICATION_AND_LAST_HIGH_RISK_CALL -99,-1"
   ]
  },
  {
   "cell_type": "code",
   "execution_count": null,
   "metadata": {},
   "outputs": [],
   "source": [
    "negative99and1 = ['PA022','PA023','PA024','PA025','PA026','PA027']"
   ]
  },
  {
   "cell_type": "code",
   "execution_count": null,
   "metadata": {},
   "outputs": [],
   "source": [
    "for i in range(len(negative99and1)):\n",
    "    train[negative99and1[i]] = train[negative99and1[i]].replace([-99,-1], np.nan)\n",
    "    test[negative99and1[i]] = test[negative99and1[i]].replace([-99,-1], np.nan)"
   ]
  },
  {
   "cell_type": "markdown",
   "metadata": {},
   "source": [
    "### -99,-98"
   ]
  },
  {
   "cell_type": "markdown",
   "metadata": {},
   "source": [
    "PA028\tNumeric\tAVG_LEN_COLLECTION_OR_HIGH_RISK_CALLS -99,-98\n",
    "PA029\tNumeric\tAVG_LEN_COLLECTION_OR_HIGH_RISK_INBOUND_CALLS -99,-98\n",
    "PA030\tNumeric\tAVG_LEN_COLLECTION_OR_HIGH_RISK_OUTBOUND_CALLS -99,-98\n",
    "PA031\tNumeric\tAVG_LEN_COLLECTION_CALLS -99,-98\n",
    "PA032\tNumeric\tAVG_LEN_COLLECTION_INBOUND_CALLS -99,-98\n",
    "PA033\tNumeric\tAVG_LEN_COLLECTION_OUTBOUND_CALLS -99,-98\n",
    "PA034\tNumeric\tAVG_LEN_HIGH_RISK_CALLS -99,-98\n",
    "PA035\tNumeric\tAVG_LEN_HIGH_RISK_INBOUND_CALLS -99,-98\n",
    "PA036\tNumeric\tAVG_LEN_HIGH_RISK_OUTBOUND_CALLS -99,-98"
   ]
  },
  {
   "cell_type": "code",
   "execution_count": null,
   "metadata": {},
   "outputs": [],
   "source": [
    "negative99and98 = ['PA028','PA029','PA030','PA031','PA032','PA033','PA034','PA035','PA036']"
   ]
  },
  {
   "cell_type": "code",
   "execution_count": null,
   "metadata": {},
   "outputs": [],
   "source": [
    "for i in range(len(negative99and98)):\n",
    "    train[negative99and98[i]] = train[negative99and98[i]].replace([-99,-98], np.nan)\n",
    "    test[negative99and98[i]] = test[negative99and98[i]].replace([-99,-98], np.nan)"
   ]
  },
  {
   "cell_type": "markdown",
   "metadata": {},
   "source": [
    "### other outliers"
   ]
  },
  {
   "cell_type": "code",
   "execution_count": null,
   "metadata": {},
   "outputs": [],
   "source": [
    "for i in range(len(outlier)): \n",
    "    positive = train[train[outlier[i]]>0]\n",
    "    upper = np.percentile(positive[outlier[i]],95)\n",
    "    \n",
    "    train[outlier[i]] = train[outlier[i]].replace(train[train[outlier[i]] > upper][outlier[i]].tolist(), upper)\n",
    "    test[outlier[i]] = test[outlier[i]].replace(test[test[outlier[i]] > upper][outlier[i]].tolist(), upper)\n",
    "    \n",
    "    mean = train[outlier[i]].mean(skipna=True)\n",
    "    train[outlier[i]] = train[outlier[i]].fillna(mean) \n",
    "    test[outlier[i]] = test[outlier[i]].fillna(mean)"
   ]
  },
  {
   "cell_type": "code",
   "execution_count": null,
   "metadata": {},
   "outputs": [],
   "source": [
    "for i in range(len(negative99)):\n",
    "    train[negative99[i]] = train[negative99[i]].replace(-99, np.nan)\n",
    "    mean = train[negative99[i]].mean(skipna=True)\n",
    "    train[negative99[i]] = train[negative99[i]].fillna(mean) "
   ]
  },
  {
   "cell_type": "code",
   "execution_count": null,
   "metadata": {},
   "outputs": [],
   "source": [
    "for i in range(len(negative99)):\n",
    "    test[negative99[i]] = test[negative99[i]].replace(-99, np.nan)\n",
    "    mean = test[negative99[i]].mean(skipna=True)\n",
    "    test[negative99[i]] = test[negative99[i]].fillna(mean) "
   ]
  },
  {
   "cell_type": "code",
   "execution_count": null,
   "metadata": {},
   "outputs": [],
   "source": [
    "outlier2 = ['PA001','PA002','PA003','PA037','PA038','PA039','PA058','PA059','PA060','PA079','PA080','PA081','CD022','CD023',\n",
    "            'CD024','CD028','CD029','CD030','CD034','CD035','CD036','CD040','CD041','CD042','CD043','CD046','CD047','CD048',\n",
    "            'CD049','CD052','CD053','CD054','CD055','CD175','CD176']"
   ]
  },
  {
   "cell_type": "code",
   "execution_count": null,
   "metadata": {},
   "outputs": [],
   "source": [
    "for i in range(len(outlier2)):\n",
    "    mean = train[outlier2[i]].mean(skipna=True)\n",
    "    train[outlier2[i]] = train[outlier2[i]].fillna(mean) \n",
    "    test[outlier2[i]] = test[outlier2[i]].fillna(mean) "
   ]
  },
  {
   "cell_type": "markdown",
   "metadata": {},
   "source": [
    "# Feature Selection"
   ]
  },
  {
   "cell_type": "markdown",
   "metadata": {},
   "source": [
    "## Boruta feature selection"
   ]
  },
  {
   "cell_type": "code",
   "execution_count": 13,
   "metadata": {},
   "outputs": [],
   "source": [
    "# transfer categorical features\n",
    "train['MB006'] = train['MB006'].astype('category')\n",
    "train['MB006'] = train['MB006'].cat.codes\n",
    "\n",
    "test['MB006'] = test['MB006'].astype('category')\n",
    "test['MB006'] = test['MB006'].cat.codes"
   ]
  },
  {
   "cell_type": "code",
   "execution_count": 10,
   "metadata": {},
   "outputs": [],
   "source": [
    "train['AP006'] = train['AP006'].astype('category')\n",
    "train['AP006'] = train['AP006'].cat.codes\n",
    "\n",
    "test['AP006'] = test['AP006'].astype('category')\n",
    "test['AP006'] = test['AP006'].cat.codes"
   ]
  },
  {
   "cell_type": "code",
   "execution_count": 6,
   "metadata": {},
   "outputs": [],
   "source": [
    "# import boruta package\n",
    "from datetime import datetime\n",
    "from sklearn.ensemble import RandomForestClassifier \n",
    "from boruta import BorutaPy "
   ]
  },
  {
   "cell_type": "code",
   "execution_count": 7,
   "metadata": {},
   "outputs": [],
   "source": [
    "# create timer function\n",
    "def timer(start_time=None):\n",
    "    if not start_time:\n",
    "        start_time = datetime.now()\n",
    "        return start_time\n",
    "    elif start_time:\n",
    "        thour, temp_sec = divmod((datetime.now() - start_time).total_seconds(), 3600)\n",
    "        tmin, tsec = divmod(temp_sec, 60)\n",
    "        print('\\n Time taken: %i hours %i minutes and %s seconds.' % (thour, tmin, round(tsec, 2)))"
   ]
  },
  {
   "cell_type": "code",
   "execution_count": 14,
   "metadata": {},
   "outputs": [],
   "source": [
    "# split trian test dataset\n",
    "X_train = train.drop(['bad30'], axis=1).values\n",
    "y_train = train['bad30'].values\n",
    "n_train=len(X_train)\n",
    "X_test = test.values"
   ]
  },
  {
   "cell_type": "code",
   "execution_count": 15,
   "metadata": {},
   "outputs": [
    {
     "name": "stdout",
     "output_type": "stream",
     "text": [
      "Iteration: \t1 / 100\n",
      "Confirmed: \t0\n",
      "Tentative: \t1807\n",
      "Rejected: \t0\n",
      "Iteration: \t2 / 100\n",
      "Confirmed: \t0\n",
      "Tentative: \t1807\n",
      "Rejected: \t0\n",
      "Iteration: \t3 / 100\n",
      "Confirmed: \t0\n",
      "Tentative: \t1807\n",
      "Rejected: \t0\n",
      "Iteration: \t4 / 100\n",
      "Confirmed: \t0\n",
      "Tentative: \t1807\n",
      "Rejected: \t0\n",
      "Iteration: \t5 / 100\n",
      "Confirmed: \t0\n",
      "Tentative: \t1807\n",
      "Rejected: \t0\n",
      "Iteration: \t6 / 100\n",
      "Confirmed: \t0\n",
      "Tentative: \t1807\n",
      "Rejected: \t0\n",
      "Iteration: \t7 / 100\n",
      "Confirmed: \t0\n",
      "Tentative: \t1807\n",
      "Rejected: \t0\n",
      "Iteration: \t8 / 100\n",
      "Confirmed: \t168\n",
      "Tentative: \t173\n",
      "Rejected: \t1466\n",
      "Iteration: \t9 / 100\n",
      "Confirmed: \t168\n",
      "Tentative: \t173\n",
      "Rejected: \t1466\n",
      "Iteration: \t10 / 100\n",
      "Confirmed: \t168\n",
      "Tentative: \t173\n",
      "Rejected: \t1466\n",
      "Iteration: \t11 / 100\n",
      "Confirmed: \t168\n",
      "Tentative: \t173\n",
      "Rejected: \t1466\n",
      "Iteration: \t12 / 100\n",
      "Confirmed: \t169\n",
      "Tentative: \t127\n",
      "Rejected: \t1511\n",
      "Iteration: \t13 / 100\n",
      "Confirmed: \t169\n",
      "Tentative: \t127\n",
      "Rejected: \t1511\n",
      "Iteration: \t14 / 100\n",
      "Confirmed: \t169\n",
      "Tentative: \t127\n",
      "Rejected: \t1511\n",
      "Iteration: \t15 / 100\n",
      "Confirmed: \t169\n",
      "Tentative: \t127\n",
      "Rejected: \t1511\n",
      "Iteration: \t16 / 100\n",
      "Confirmed: \t171\n",
      "Tentative: \t103\n",
      "Rejected: \t1533\n",
      "Iteration: \t17 / 100\n",
      "Confirmed: \t171\n",
      "Tentative: \t103\n",
      "Rejected: \t1533\n",
      "Iteration: \t18 / 100\n",
      "Confirmed: \t171\n",
      "Tentative: \t103\n",
      "Rejected: \t1533\n",
      "Iteration: \t19 / 100\n",
      "Confirmed: \t171\n",
      "Tentative: \t90\n",
      "Rejected: \t1546\n",
      "Iteration: \t20 / 100\n",
      "Confirmed: \t171\n",
      "Tentative: \t90\n",
      "Rejected: \t1546\n",
      "Iteration: \t21 / 100\n",
      "Confirmed: \t171\n",
      "Tentative: \t90\n",
      "Rejected: \t1546\n",
      "Iteration: \t22 / 100\n",
      "Confirmed: \t171\n",
      "Tentative: \t74\n",
      "Rejected: \t1562\n",
      "Iteration: \t23 / 100\n",
      "Confirmed: \t171\n",
      "Tentative: \t74\n",
      "Rejected: \t1562\n",
      "Iteration: \t24 / 100\n",
      "Confirmed: \t171\n",
      "Tentative: \t74\n",
      "Rejected: \t1562\n",
      "Iteration: \t25 / 100\n",
      "Confirmed: \t171\n",
      "Tentative: \t74\n",
      "Rejected: \t1562\n",
      "Iteration: \t26 / 100\n",
      "Confirmed: \t171\n",
      "Tentative: \t67\n",
      "Rejected: \t1569\n",
      "Iteration: \t27 / 100\n",
      "Confirmed: \t171\n",
      "Tentative: \t67\n",
      "Rejected: \t1569\n",
      "Iteration: \t28 / 100\n",
      "Confirmed: \t171\n",
      "Tentative: \t67\n",
      "Rejected: \t1569\n",
      "Iteration: \t29 / 100\n",
      "Confirmed: \t171\n",
      "Tentative: \t59\n",
      "Rejected: \t1577\n",
      "Iteration: \t30 / 100\n",
      "Confirmed: \t171\n",
      "Tentative: \t59\n",
      "Rejected: \t1577\n",
      "Iteration: \t31 / 100\n",
      "Confirmed: \t171\n",
      "Tentative: \t59\n",
      "Rejected: \t1577\n",
      "Iteration: \t32 / 100\n",
      "Confirmed: \t172\n",
      "Tentative: \t52\n",
      "Rejected: \t1583\n",
      "Iteration: \t33 / 100\n",
      "Confirmed: \t172\n",
      "Tentative: \t52\n",
      "Rejected: \t1583\n",
      "Iteration: \t34 / 100\n",
      "Confirmed: \t172\n",
      "Tentative: \t48\n",
      "Rejected: \t1587\n",
      "Iteration: \t35 / 100\n",
      "Confirmed: \t172\n",
      "Tentative: \t48\n",
      "Rejected: \t1587\n",
      "Iteration: \t36 / 100\n",
      "Confirmed: \t172\n",
      "Tentative: \t48\n",
      "Rejected: \t1587\n",
      "Iteration: \t37 / 100\n",
      "Confirmed: \t172\n",
      "Tentative: \t48\n",
      "Rejected: \t1587\n",
      "Iteration: \t38 / 100\n",
      "Confirmed: \t172\n",
      "Tentative: \t46\n",
      "Rejected: \t1589\n",
      "Iteration: \t39 / 100\n",
      "Confirmed: \t172\n",
      "Tentative: \t46\n",
      "Rejected: \t1589\n",
      "Iteration: \t40 / 100\n",
      "Confirmed: \t172\n",
      "Tentative: \t42\n",
      "Rejected: \t1593\n",
      "Iteration: \t41 / 100\n",
      "Confirmed: \t172\n",
      "Tentative: \t42\n",
      "Rejected: \t1593\n",
      "Iteration: \t42 / 100\n",
      "Confirmed: \t172\n",
      "Tentative: \t42\n",
      "Rejected: \t1593\n",
      "Iteration: \t43 / 100\n",
      "Confirmed: \t172\n",
      "Tentative: \t41\n",
      "Rejected: \t1594\n",
      "Iteration: \t44 / 100\n",
      "Confirmed: \t172\n",
      "Tentative: \t41\n",
      "Rejected: \t1594\n",
      "Iteration: \t45 / 100\n",
      "Confirmed: \t172\n",
      "Tentative: \t41\n",
      "Rejected: \t1594\n",
      "Iteration: \t46 / 100\n",
      "Confirmed: \t172\n",
      "Tentative: \t37\n",
      "Rejected: \t1598\n",
      "Iteration: \t47 / 100\n",
      "Confirmed: \t172\n",
      "Tentative: \t37\n",
      "Rejected: \t1598\n",
      "Iteration: \t48 / 100\n",
      "Confirmed: \t172\n",
      "Tentative: \t37\n",
      "Rejected: \t1598\n",
      "Iteration: \t49 / 100\n",
      "Confirmed: \t172\n",
      "Tentative: \t36\n",
      "Rejected: \t1599\n",
      "Iteration: \t50 / 100\n",
      "Confirmed: \t172\n",
      "Tentative: \t36\n",
      "Rejected: \t1599\n",
      "Iteration: \t51 / 100\n",
      "Confirmed: \t172\n",
      "Tentative: \t32\n",
      "Rejected: \t1603\n",
      "Iteration: \t52 / 100\n",
      "Confirmed: \t172\n",
      "Tentative: \t32\n",
      "Rejected: \t1603\n",
      "Iteration: \t53 / 100\n",
      "Confirmed: \t172\n",
      "Tentative: \t32\n",
      "Rejected: \t1603\n",
      "Iteration: \t54 / 100\n",
      "Confirmed: \t172\n",
      "Tentative: \t29\n",
      "Rejected: \t1606\n",
      "Iteration: \t55 / 100\n",
      "Confirmed: \t172\n",
      "Tentative: \t29\n",
      "Rejected: \t1606\n",
      "Iteration: \t56 / 100\n",
      "Confirmed: \t172\n",
      "Tentative: \t29\n",
      "Rejected: \t1606\n",
      "Iteration: \t57 / 100\n",
      "Confirmed: \t172\n",
      "Tentative: \t29\n",
      "Rejected: \t1606\n",
      "Iteration: \t58 / 100\n",
      "Confirmed: \t172\n",
      "Tentative: \t29\n",
      "Rejected: \t1606\n",
      "Iteration: \t59 / 100\n",
      "Confirmed: \t172\n",
      "Tentative: \t29\n",
      "Rejected: \t1606\n",
      "Iteration: \t60 / 100\n",
      "Confirmed: \t172\n",
      "Tentative: \t29\n",
      "Rejected: \t1606\n",
      "Iteration: \t61 / 100\n",
      "Confirmed: \t172\n",
      "Tentative: \t29\n",
      "Rejected: \t1606\n",
      "Iteration: \t62 / 100\n",
      "Confirmed: \t172\n",
      "Tentative: \t28\n",
      "Rejected: \t1607\n",
      "Iteration: \t63 / 100\n",
      "Confirmed: \t172\n",
      "Tentative: \t28\n",
      "Rejected: \t1607\n",
      "Iteration: \t64 / 100\n",
      "Confirmed: \t172\n",
      "Tentative: \t28\n",
      "Rejected: \t1607\n",
      "Iteration: \t65 / 100\n",
      "Confirmed: \t172\n",
      "Tentative: \t28\n",
      "Rejected: \t1607\n",
      "Iteration: \t66 / 100\n",
      "Confirmed: \t172\n",
      "Tentative: \t28\n",
      "Rejected: \t1607\n",
      "Iteration: \t67 / 100\n",
      "Confirmed: \t172\n",
      "Tentative: \t26\n",
      "Rejected: \t1609\n",
      "Iteration: \t68 / 100\n",
      "Confirmed: \t172\n",
      "Tentative: \t26\n",
      "Rejected: \t1609\n",
      "Iteration: \t69 / 100\n",
      "Confirmed: \t172\n",
      "Tentative: \t26\n",
      "Rejected: \t1609\n",
      "Iteration: \t70 / 100\n",
      "Confirmed: \t172\n",
      "Tentative: \t25\n",
      "Rejected: \t1610\n",
      "Iteration: \t71 / 100\n",
      "Confirmed: \t172\n",
      "Tentative: \t25\n",
      "Rejected: \t1610\n",
      "Iteration: \t72 / 100\n",
      "Confirmed: \t172\n",
      "Tentative: \t24\n",
      "Rejected: \t1611\n",
      "Iteration: \t73 / 100\n",
      "Confirmed: \t172\n",
      "Tentative: \t24\n",
      "Rejected: \t1611\n",
      "Iteration: \t74 / 100\n",
      "Confirmed: \t172\n",
      "Tentative: \t24\n",
      "Rejected: \t1611\n",
      "Iteration: \t75 / 100\n",
      "Confirmed: \t172\n",
      "Tentative: \t24\n",
      "Rejected: \t1611\n",
      "Iteration: \t76 / 100\n",
      "Confirmed: \t172\n",
      "Tentative: \t24\n",
      "Rejected: \t1611\n",
      "Iteration: \t77 / 100\n",
      "Confirmed: \t172\n",
      "Tentative: \t23\n",
      "Rejected: \t1612\n",
      "Iteration: \t78 / 100\n",
      "Confirmed: \t172\n",
      "Tentative: \t23\n",
      "Rejected: \t1612\n",
      "Iteration: \t79 / 100\n",
      "Confirmed: \t172\n",
      "Tentative: \t23\n",
      "Rejected: \t1612\n",
      "Iteration: \t80 / 100\n",
      "Confirmed: \t172\n",
      "Tentative: \t23\n",
      "Rejected: \t1612\n",
      "Iteration: \t81 / 100\n",
      "Confirmed: \t172\n",
      "Tentative: \t23\n",
      "Rejected: \t1612\n",
      "Iteration: \t82 / 100\n",
      "Confirmed: \t172\n",
      "Tentative: \t23\n",
      "Rejected: \t1612\n",
      "Iteration: \t83 / 100\n",
      "Confirmed: \t172\n",
      "Tentative: \t23\n",
      "Rejected: \t1612\n",
      "Iteration: \t84 / 100\n",
      "Confirmed: \t172\n",
      "Tentative: \t23\n",
      "Rejected: \t1612\n",
      "Iteration: \t85 / 100\n",
      "Confirmed: \t173\n",
      "Tentative: \t21\n",
      "Rejected: \t1613\n",
      "Iteration: \t86 / 100\n",
      "Confirmed: \t173\n",
      "Tentative: \t21\n",
      "Rejected: \t1613\n",
      "Iteration: \t87 / 100\n",
      "Confirmed: \t173\n",
      "Tentative: \t21\n",
      "Rejected: \t1613\n",
      "Iteration: \t88 / 100\n",
      "Confirmed: \t173\n",
      "Tentative: \t21\n",
      "Rejected: \t1613\n",
      "Iteration: \t89 / 100\n",
      "Confirmed: \t173\n",
      "Tentative: \t21\n",
      "Rejected: \t1613\n",
      "Iteration: \t90 / 100\n",
      "Confirmed: \t173\n",
      "Tentative: \t21\n",
      "Rejected: \t1613\n",
      "Iteration: \t91 / 100\n",
      "Confirmed: \t173\n",
      "Tentative: \t21\n",
      "Rejected: \t1613\n",
      "Iteration: \t92 / 100\n",
      "Confirmed: \t173\n",
      "Tentative: \t21\n",
      "Rejected: \t1613\n",
      "Iteration: \t93 / 100\n",
      "Confirmed: \t173\n",
      "Tentative: \t21\n",
      "Rejected: \t1613\n",
      "Iteration: \t94 / 100\n",
      "Confirmed: \t173\n",
      "Tentative: \t21\n",
      "Rejected: \t1613\n",
      "Iteration: \t95 / 100\n",
      "Confirmed: \t173\n",
      "Tentative: \t21\n",
      "Rejected: \t1613\n",
      "Iteration: \t96 / 100\n",
      "Confirmed: \t173\n",
      "Tentative: \t21\n",
      "Rejected: \t1613\n",
      "Iteration: \t97 / 100\n",
      "Confirmed: \t173\n",
      "Tentative: \t21\n",
      "Rejected: \t1613\n",
      "Iteration: \t98 / 100\n",
      "Confirmed: \t173\n",
      "Tentative: \t20\n",
      "Rejected: \t1614\n",
      "Iteration: \t99 / 100\n",
      "Confirmed: \t173\n",
      "Tentative: \t20\n",
      "Rejected: \t1614\n",
      "\n",
      "\n",
      "BorutaPy finished running.\n",
      "\n",
      "Iteration: \t100 / 100\n",
      "Confirmed: \t173\n",
      "Tentative: \t3\n",
      "Rejected: \t1614\n",
      "\n",
      " Time taken: 2 hours 34 minutes and 9.72 seconds.\n"
     ]
    }
   ],
   "source": [
    "# run boruta\n",
    "rfc = RandomForestClassifier(n_estimators=200, class_weight='balanced', max_depth=6)\n",
    "boruta_selector = BorutaPy(rfc, n_estimators='auto', verbose=2)\n",
    "start_time = timer(None)\n",
    "boruta_selector.fit(X_train, y_train)\n",
    "timer(start_time)"
   ]
  },
  {
   "cell_type": "code",
   "execution_count": 17,
   "metadata": {},
   "outputs": [
    {
     "name": "stdout",
     "output_type": "stream",
     "text": [
      "\n",
      " Top 173 features:\n",
      "    features  rank\n",
      "0      AP004     1\n",
      "1     ym2618     1\n",
      "2     ym0052     1\n",
      "3     ym0051     1\n",
      "4     ym0049     1\n",
      "..       ...   ...\n",
      "168    CR020     1\n",
      "169    CR015     1\n",
      "170    MB006     1\n",
      "171    AP002     1\n",
      "172    MB001     1\n",
      "\n",
      "[173 rows x 2 columns]\n"
     ]
    }
   ],
   "source": [
    "# find most important features that has most 'hit rate' from boruta method\n",
    "feature_df = pd.DataFrame(train.drop(['bad30'], axis=1).columns.tolist(), columns=['features'])\n",
    "feature_df['rank']=boruta_selector.ranking_\n",
    "feature_df = feature_df.sort_values('rank', ascending=True).reset_index(drop=True)\n",
    "print ('\\n Top %d features:' % boruta_selector.n_features_)\n",
    "print (feature_df.head(boruta_selector.n_features_))"
   ]
  },
  {
   "cell_type": "code",
   "execution_count": 18,
   "metadata": {},
   "outputs": [],
   "source": [
    "boruta_df = feature_df.head(boruta_selector.n_features_)"
   ]
  },
  {
   "cell_type": "code",
   "execution_count": 21,
   "metadata": {},
   "outputs": [],
   "source": [
    "boruta_feature = boruta_df.features.tolist()"
   ]
  },
  {
   "cell_type": "code",
   "execution_count": 22,
   "metadata": {},
   "outputs": [
    {
     "data": {
      "text/plain": [
       "['AP004',\n",
       " 'ym2618',\n",
       " 'ym0052',\n",
       " 'ym0051',\n",
       " 'ym0049',\n",
       " 'ym0038',\n",
       " 'ym0036',\n",
       " 'ym0062',\n",
       " 'ym0035',\n",
       " 'ym0029',\n",
       " 'ym0028',\n",
       " 'ym0027',\n",
       " 'ym0025',\n",
       " 'ym0021',\n",
       " 'ym0019',\n",
       " 'ym0030',\n",
       " 'ym0074',\n",
       " 'ym0079',\n",
       " 'ym0080',\n",
       " 'ym0188',\n",
       " 'ym0187',\n",
       " 'ym0183',\n",
       " 'ym0177',\n",
       " 'ym0174',\n",
       " 'ym0155',\n",
       " 'ym0153',\n",
       " 'ym0146',\n",
       " 'ym0125',\n",
       " 'ym0122',\n",
       " 'ym0121',\n",
       " 'ym0111',\n",
       " 'ym0099',\n",
       " 'ym0093',\n",
       " 'ym0090',\n",
       " 'ym0010',\n",
       " 'ym0004',\n",
       " 'ym0003',\n",
       " 'CD173',\n",
       " 'CD109',\n",
       " 'CD106',\n",
       " 'CD105',\n",
       " 'CD104',\n",
       " 'CD103',\n",
       " 'CD100',\n",
       " 'CD018',\n",
       " 'CD017',\n",
       " 'CD016',\n",
       " 'CD012',\n",
       " 'CD011',\n",
       " 'CD010',\n",
       " 'CD006',\n",
       " 'CD005',\n",
       " 'CD004',\n",
       " 'CD110',\n",
       " 'ym0190',\n",
       " 'CD111',\n",
       " 'CD116',\n",
       " 'CD172',\n",
       " 'CD170',\n",
       " 'CD169',\n",
       " 'CD167',\n",
       " 'CD166',\n",
       " 'CD164',\n",
       " 'CD162',\n",
       " 'CD158',\n",
       " 'CD123',\n",
       " 'CD122',\n",
       " 'CD121',\n",
       " 'CD120',\n",
       " 'CD119',\n",
       " 'CD118',\n",
       " 'CD117',\n",
       " 'CD115',\n",
       " 'CD003',\n",
       " 'ym0193',\n",
       " 'ym0197',\n",
       " 'ym2022',\n",
       " 'ym2014',\n",
       " 'ym2309',\n",
       " 'ym2311',\n",
       " 'ym2331',\n",
       " 'ym2333',\n",
       " 'ym2033',\n",
       " 'ym0922',\n",
       " 'ym0660',\n",
       " 'ym0652',\n",
       " 'ym0646',\n",
       " 'ym0620',\n",
       " 'ym0544',\n",
       " 'ym0474',\n",
       " 'ym0800',\n",
       " 'ym2038',\n",
       " 'ym2040',\n",
       " 'ym2041',\n",
       " 'ym2249',\n",
       " 'ym2253',\n",
       " 'ym2221',\n",
       " 'ym2219',\n",
       " 'ym2156',\n",
       " 'ym2101',\n",
       " 'ym2091',\n",
       " 'ym2087',\n",
       " 'ym2075',\n",
       " 'ym2068',\n",
       " 'ym2061',\n",
       " 'ym2058',\n",
       " 'ym2057',\n",
       " 'ym2055',\n",
       " 'ym2045',\n",
       " 'ym0383',\n",
       " 'ym0366',\n",
       " 'ym0361',\n",
       " 'ym0360',\n",
       " 'ym0289',\n",
       " 'ym0286',\n",
       " 'ym0278',\n",
       " 'ym0275',\n",
       " 'ym0267',\n",
       " 'ym0265',\n",
       " 'ym0261',\n",
       " 'ym0258',\n",
       " 'ym0245',\n",
       " 'ym0243',\n",
       " 'ym0225',\n",
       " 'ym0215',\n",
       " 'ym0211',\n",
       " 'ym0204',\n",
       " 'ym0198',\n",
       " 'ym0294',\n",
       " 'ym0195',\n",
       " 'ym0296',\n",
       " 'ym0301',\n",
       " 'ym0358',\n",
       " 'ym0357',\n",
       " 'ym0340',\n",
       " 'ym0332',\n",
       " 'ym0329',\n",
       " 'ym0328',\n",
       " 'ym0322',\n",
       " 'ym0319',\n",
       " 'ym0318',\n",
       " 'ym0317',\n",
       " 'ym0316',\n",
       " 'ym0312',\n",
       " 'ym0306',\n",
       " 'ym0305',\n",
       " 'ym0302',\n",
       " 'ym0299',\n",
       " 'CD002',\n",
       " 'ym0384',\n",
       " 'CR008',\n",
       " 'TD010',\n",
       " 'AP006',\n",
       " 'TD006',\n",
       " 'TD005',\n",
       " 'TD012',\n",
       " 'TD013',\n",
       " 'TD014',\n",
       " 'TD016',\n",
       " 'TD002',\n",
       " 'MB005',\n",
       " 'CD001',\n",
       " 'TD001',\n",
       " 'TD009',\n",
       " 'CR007',\n",
       " 'CR009',\n",
       " 'AP003',\n",
       " 'CR021',\n",
       " 'CR020',\n",
       " 'CR015',\n",
       " 'MB006',\n",
       " 'AP002',\n",
       " 'MB001']"
      ]
     },
     "execution_count": 22,
     "metadata": {},
     "output_type": "execute_result"
    }
   ],
   "source": [
    "# print list of boruta features\n",
    "boruta_feature"
   ]
  },
  {
   "cell_type": "markdown",
   "metadata": {},
   "source": [
    "## Remove Correlation"
   ]
  },
  {
   "cell_type": "markdown",
   "metadata": {},
   "source": [
    "Run correlation based on boruta selected features and ratain only one feature if they have correlation > 0.7 with another features"
   ]
  },
  {
   "cell_type": "code",
   "execution_count": 23,
   "metadata": {
    "scrolled": true
   },
   "outputs": [
    {
     "data": {
      "text/html": [
       "<div>\n",
       "<style scoped>\n",
       "    .dataframe tbody tr th:only-of-type {\n",
       "        vertical-align: middle;\n",
       "    }\n",
       "\n",
       "    .dataframe tbody tr th {\n",
       "        vertical-align: top;\n",
       "    }\n",
       "\n",
       "    .dataframe thead th {\n",
       "        text-align: right;\n",
       "    }\n",
       "</style>\n",
       "<table border=\"1\" class=\"dataframe\">\n",
       "  <thead>\n",
       "    <tr style=\"text-align: right;\">\n",
       "      <th></th>\n",
       "      <th>AP004</th>\n",
       "      <th>ym2618</th>\n",
       "      <th>ym0052</th>\n",
       "      <th>ym0051</th>\n",
       "      <th>ym0049</th>\n",
       "      <th>ym0038</th>\n",
       "      <th>ym0036</th>\n",
       "      <th>ym0062</th>\n",
       "      <th>ym0035</th>\n",
       "      <th>ym0029</th>\n",
       "      <th>...</th>\n",
       "      <th>TD001</th>\n",
       "      <th>TD009</th>\n",
       "      <th>CR007</th>\n",
       "      <th>CR009</th>\n",
       "      <th>AP003</th>\n",
       "      <th>CR021</th>\n",
       "      <th>CR020</th>\n",
       "      <th>CR015</th>\n",
       "      <th>AP002</th>\n",
       "      <th>MB001</th>\n",
       "    </tr>\n",
       "  </thead>\n",
       "  <tbody>\n",
       "    <tr>\n",
       "      <th>AP004</th>\n",
       "      <td>1.000000</td>\n",
       "      <td>-0.012742</td>\n",
       "      <td>0.019417</td>\n",
       "      <td>0.010245</td>\n",
       "      <td>-0.011420</td>\n",
       "      <td>-0.078679</td>\n",
       "      <td>-0.025294</td>\n",
       "      <td>-0.078864</td>\n",
       "      <td>-0.020883</td>\n",
       "      <td>0.003996</td>\n",
       "      <td>...</td>\n",
       "      <td>0.046445</td>\n",
       "      <td>-0.032570</td>\n",
       "      <td>-0.030772</td>\n",
       "      <td>0.027038</td>\n",
       "      <td>0.016175</td>\n",
       "      <td>0.007322</td>\n",
       "      <td>0.007731</td>\n",
       "      <td>0.035270</td>\n",
       "      <td>0.092000</td>\n",
       "      <td>-0.024806</td>\n",
       "    </tr>\n",
       "    <tr>\n",
       "      <th>ym2618</th>\n",
       "      <td>-0.012742</td>\n",
       "      <td>1.000000</td>\n",
       "      <td>-0.000921</td>\n",
       "      <td>0.006424</td>\n",
       "      <td>0.048843</td>\n",
       "      <td>0.009515</td>\n",
       "      <td>0.056547</td>\n",
       "      <td>0.008342</td>\n",
       "      <td>0.047308</td>\n",
       "      <td>0.008872</td>\n",
       "      <td>...</td>\n",
       "      <td>0.005485</td>\n",
       "      <td>0.005291</td>\n",
       "      <td>0.017448</td>\n",
       "      <td>0.032840</td>\n",
       "      <td>0.052099</td>\n",
       "      <td>-0.011160</td>\n",
       "      <td>0.003795</td>\n",
       "      <td>0.026472</td>\n",
       "      <td>-0.014881</td>\n",
       "      <td>0.032158</td>\n",
       "    </tr>\n",
       "    <tr>\n",
       "      <th>ym0052</th>\n",
       "      <td>0.019417</td>\n",
       "      <td>-0.000921</td>\n",
       "      <td>1.000000</td>\n",
       "      <td>0.443346</td>\n",
       "      <td>0.013443</td>\n",
       "      <td>0.150749</td>\n",
       "      <td>0.103958</td>\n",
       "      <td>0.149854</td>\n",
       "      <td>0.012194</td>\n",
       "      <td>0.354008</td>\n",
       "      <td>...</td>\n",
       "      <td>-0.010503</td>\n",
       "      <td>-0.022339</td>\n",
       "      <td>-0.006910</td>\n",
       "      <td>-0.057552</td>\n",
       "      <td>-0.067260</td>\n",
       "      <td>0.013171</td>\n",
       "      <td>-0.012051</td>\n",
       "      <td>-0.064934</td>\n",
       "      <td>0.077492</td>\n",
       "      <td>-0.034278</td>\n",
       "    </tr>\n",
       "    <tr>\n",
       "      <th>ym0051</th>\n",
       "      <td>0.010245</td>\n",
       "      <td>0.006424</td>\n",
       "      <td>0.443346</td>\n",
       "      <td>1.000000</td>\n",
       "      <td>0.010774</td>\n",
       "      <td>0.067531</td>\n",
       "      <td>0.038575</td>\n",
       "      <td>0.067063</td>\n",
       "      <td>0.006030</td>\n",
       "      <td>0.925496</td>\n",
       "      <td>...</td>\n",
       "      <td>-0.005170</td>\n",
       "      <td>-0.015097</td>\n",
       "      <td>-0.009613</td>\n",
       "      <td>-0.021264</td>\n",
       "      <td>-0.033094</td>\n",
       "      <td>0.003612</td>\n",
       "      <td>-0.007179</td>\n",
       "      <td>-0.021681</td>\n",
       "      <td>0.014444</td>\n",
       "      <td>-0.015719</td>\n",
       "    </tr>\n",
       "    <tr>\n",
       "      <th>ym0049</th>\n",
       "      <td>-0.011420</td>\n",
       "      <td>0.048843</td>\n",
       "      <td>0.013443</td>\n",
       "      <td>0.010774</td>\n",
       "      <td>1.000000</td>\n",
       "      <td>0.041407</td>\n",
       "      <td>0.134748</td>\n",
       "      <td>0.039438</td>\n",
       "      <td>0.248173</td>\n",
       "      <td>0.014816</td>\n",
       "      <td>...</td>\n",
       "      <td>0.023164</td>\n",
       "      <td>0.034193</td>\n",
       "      <td>0.022945</td>\n",
       "      <td>0.049999</td>\n",
       "      <td>0.078659</td>\n",
       "      <td>-0.020624</td>\n",
       "      <td>0.003317</td>\n",
       "      <td>0.041415</td>\n",
       "      <td>0.012572</td>\n",
       "      <td>0.008433</td>\n",
       "    </tr>\n",
       "    <tr>\n",
       "      <th>...</th>\n",
       "      <td>...</td>\n",
       "      <td>...</td>\n",
       "      <td>...</td>\n",
       "      <td>...</td>\n",
       "      <td>...</td>\n",
       "      <td>...</td>\n",
       "      <td>...</td>\n",
       "      <td>...</td>\n",
       "      <td>...</td>\n",
       "      <td>...</td>\n",
       "      <td>...</td>\n",
       "      <td>...</td>\n",
       "      <td>...</td>\n",
       "      <td>...</td>\n",
       "      <td>...</td>\n",
       "      <td>...</td>\n",
       "      <td>...</td>\n",
       "      <td>...</td>\n",
       "      <td>...</td>\n",
       "      <td>...</td>\n",
       "      <td>...</td>\n",
       "    </tr>\n",
       "    <tr>\n",
       "      <th>CR021</th>\n",
       "      <td>0.007322</td>\n",
       "      <td>-0.011160</td>\n",
       "      <td>0.013171</td>\n",
       "      <td>0.003612</td>\n",
       "      <td>-0.020624</td>\n",
       "      <td>-0.017291</td>\n",
       "      <td>-0.002734</td>\n",
       "      <td>-0.016234</td>\n",
       "      <td>-0.011109</td>\n",
       "      <td>0.001417</td>\n",
       "      <td>...</td>\n",
       "      <td>-0.013938</td>\n",
       "      <td>-0.043903</td>\n",
       "      <td>-0.036218</td>\n",
       "      <td>-0.148025</td>\n",
       "      <td>-0.054819</td>\n",
       "      <td>1.000000</td>\n",
       "      <td>0.876735</td>\n",
       "      <td>-0.098900</td>\n",
       "      <td>-0.031247</td>\n",
       "      <td>-0.016660</td>\n",
       "    </tr>\n",
       "    <tr>\n",
       "      <th>CR020</th>\n",
       "      <td>0.007731</td>\n",
       "      <td>0.003795</td>\n",
       "      <td>-0.012051</td>\n",
       "      <td>-0.007179</td>\n",
       "      <td>0.003317</td>\n",
       "      <td>-0.015511</td>\n",
       "      <td>0.021039</td>\n",
       "      <td>-0.015685</td>\n",
       "      <td>0.013521</td>\n",
       "      <td>-0.004904</td>\n",
       "      <td>...</td>\n",
       "      <td>0.001556</td>\n",
       "      <td>-0.004859</td>\n",
       "      <td>0.016654</td>\n",
       "      <td>0.119854</td>\n",
       "      <td>0.005667</td>\n",
       "      <td>0.876735</td>\n",
       "      <td>1.000000</td>\n",
       "      <td>0.052100</td>\n",
       "      <td>-0.030297</td>\n",
       "      <td>0.023709</td>\n",
       "    </tr>\n",
       "    <tr>\n",
       "      <th>CR015</th>\n",
       "      <td>0.035270</td>\n",
       "      <td>0.026472</td>\n",
       "      <td>-0.064934</td>\n",
       "      <td>-0.021681</td>\n",
       "      <td>0.041415</td>\n",
       "      <td>0.019275</td>\n",
       "      <td>0.056229</td>\n",
       "      <td>0.017477</td>\n",
       "      <td>0.050110</td>\n",
       "      <td>-0.008433</td>\n",
       "      <td>...</td>\n",
       "      <td>0.014757</td>\n",
       "      <td>0.070832</td>\n",
       "      <td>-0.028569</td>\n",
       "      <td>0.268764</td>\n",
       "      <td>0.063968</td>\n",
       "      <td>-0.098900</td>\n",
       "      <td>0.052100</td>\n",
       "      <td>1.000000</td>\n",
       "      <td>-0.031657</td>\n",
       "      <td>0.074437</td>\n",
       "    </tr>\n",
       "    <tr>\n",
       "      <th>AP002</th>\n",
       "      <td>0.092000</td>\n",
       "      <td>-0.014881</td>\n",
       "      <td>0.077492</td>\n",
       "      <td>0.014444</td>\n",
       "      <td>0.012572</td>\n",
       "      <td>-0.063759</td>\n",
       "      <td>-0.168976</td>\n",
       "      <td>-0.063208</td>\n",
       "      <td>-0.106760</td>\n",
       "      <td>0.002110</td>\n",
       "      <td>...</td>\n",
       "      <td>0.003058</td>\n",
       "      <td>-0.040158</td>\n",
       "      <td>-0.084222</td>\n",
       "      <td>0.002984</td>\n",
       "      <td>-0.020883</td>\n",
       "      <td>-0.031247</td>\n",
       "      <td>-0.030297</td>\n",
       "      <td>-0.031657</td>\n",
       "      <td>1.000000</td>\n",
       "      <td>-0.033428</td>\n",
       "    </tr>\n",
       "    <tr>\n",
       "      <th>MB001</th>\n",
       "      <td>-0.024806</td>\n",
       "      <td>0.032158</td>\n",
       "      <td>-0.034278</td>\n",
       "      <td>-0.015719</td>\n",
       "      <td>0.008433</td>\n",
       "      <td>-0.002943</td>\n",
       "      <td>0.028250</td>\n",
       "      <td>-0.003402</td>\n",
       "      <td>0.027107</td>\n",
       "      <td>-0.010724</td>\n",
       "      <td>...</td>\n",
       "      <td>0.013354</td>\n",
       "      <td>0.045418</td>\n",
       "      <td>0.042023</td>\n",
       "      <td>0.079581</td>\n",
       "      <td>0.008324</td>\n",
       "      <td>-0.016660</td>\n",
       "      <td>0.023709</td>\n",
       "      <td>0.074437</td>\n",
       "      <td>-0.033428</td>\n",
       "      <td>1.000000</td>\n",
       "    </tr>\n",
       "  </tbody>\n",
       "</table>\n",
       "<p>172 rows × 172 columns</p>\n",
       "</div>"
      ],
      "text/plain": [
       "           AP004    ym2618    ym0052    ym0051    ym0049    ym0038    ym0036  \\\n",
       "AP004   1.000000 -0.012742  0.019417  0.010245 -0.011420 -0.078679 -0.025294   \n",
       "ym2618 -0.012742  1.000000 -0.000921  0.006424  0.048843  0.009515  0.056547   \n",
       "ym0052  0.019417 -0.000921  1.000000  0.443346  0.013443  0.150749  0.103958   \n",
       "ym0051  0.010245  0.006424  0.443346  1.000000  0.010774  0.067531  0.038575   \n",
       "ym0049 -0.011420  0.048843  0.013443  0.010774  1.000000  0.041407  0.134748   \n",
       "...          ...       ...       ...       ...       ...       ...       ...   \n",
       "CR021   0.007322 -0.011160  0.013171  0.003612 -0.020624 -0.017291 -0.002734   \n",
       "CR020   0.007731  0.003795 -0.012051 -0.007179  0.003317 -0.015511  0.021039   \n",
       "CR015   0.035270  0.026472 -0.064934 -0.021681  0.041415  0.019275  0.056229   \n",
       "AP002   0.092000 -0.014881  0.077492  0.014444  0.012572 -0.063759 -0.168976   \n",
       "MB001  -0.024806  0.032158 -0.034278 -0.015719  0.008433 -0.002943  0.028250   \n",
       "\n",
       "          ym0062    ym0035    ym0029  ...     TD001     TD009     CR007  \\\n",
       "AP004  -0.078864 -0.020883  0.003996  ...  0.046445 -0.032570 -0.030772   \n",
       "ym2618  0.008342  0.047308  0.008872  ...  0.005485  0.005291  0.017448   \n",
       "ym0052  0.149854  0.012194  0.354008  ... -0.010503 -0.022339 -0.006910   \n",
       "ym0051  0.067063  0.006030  0.925496  ... -0.005170 -0.015097 -0.009613   \n",
       "ym0049  0.039438  0.248173  0.014816  ...  0.023164  0.034193  0.022945   \n",
       "...          ...       ...       ...  ...       ...       ...       ...   \n",
       "CR021  -0.016234 -0.011109  0.001417  ... -0.013938 -0.043903 -0.036218   \n",
       "CR020  -0.015685  0.013521 -0.004904  ...  0.001556 -0.004859  0.016654   \n",
       "CR015   0.017477  0.050110 -0.008433  ...  0.014757  0.070832 -0.028569   \n",
       "AP002  -0.063208 -0.106760  0.002110  ...  0.003058 -0.040158 -0.084222   \n",
       "MB001  -0.003402  0.027107 -0.010724  ...  0.013354  0.045418  0.042023   \n",
       "\n",
       "           CR009     AP003     CR021     CR020     CR015     AP002     MB001  \n",
       "AP004   0.027038  0.016175  0.007322  0.007731  0.035270  0.092000 -0.024806  \n",
       "ym2618  0.032840  0.052099 -0.011160  0.003795  0.026472 -0.014881  0.032158  \n",
       "ym0052 -0.057552 -0.067260  0.013171 -0.012051 -0.064934  0.077492 -0.034278  \n",
       "ym0051 -0.021264 -0.033094  0.003612 -0.007179 -0.021681  0.014444 -0.015719  \n",
       "ym0049  0.049999  0.078659 -0.020624  0.003317  0.041415  0.012572  0.008433  \n",
       "...          ...       ...       ...       ...       ...       ...       ...  \n",
       "CR021  -0.148025 -0.054819  1.000000  0.876735 -0.098900 -0.031247 -0.016660  \n",
       "CR020   0.119854  0.005667  0.876735  1.000000  0.052100 -0.030297  0.023709  \n",
       "CR015   0.268764  0.063968 -0.098900  0.052100  1.000000 -0.031657  0.074437  \n",
       "AP002   0.002984 -0.020883 -0.031247 -0.030297 -0.031657  1.000000 -0.033428  \n",
       "MB001   0.079581  0.008324 -0.016660  0.023709  0.074437 -0.033428  1.000000  \n",
       "\n",
       "[172 rows x 172 columns]"
      ]
     },
     "execution_count": 23,
     "metadata": {},
     "output_type": "execute_result"
    }
   ],
   "source": [
    "train_boruta = train.loc[:, boruta_feature]\n",
    "train_boruta1 = train_boruta.drop(columns=['MB006'])\n",
    "train_boruta1.corr()"
   ]
  },
  {
   "cell_type": "code",
   "execution_count": 24,
   "metadata": {},
   "outputs": [],
   "source": [
    "boruta_feature.remove('MB006')"
   ]
  },
  {
   "cell_type": "code",
   "execution_count": 25,
   "metadata": {},
   "outputs": [],
   "source": [
    "mydict = {}\n",
    "for i in range(len(boruta_feature)):\n",
    "    for j in range(i+1,len(boruta_feature)):\n",
    "        if train_boruta1[boruta_feature[i]].corr(train_boruta1[boruta_feature[j]]) > 0.7 and boruta_feature[i] not in mydict and boruta_feature[i] not in mydict.values():\n",
    "            mydict[boruta_feature[i]] = [boruta_feature[j]]\n",
    "        elif train_boruta1[boruta_feature[i]].corr(train_boruta1[boruta_feature[j]]) > 0.7 and boruta_feature[i] in mydict:\n",
    "            mydict[boruta_feature[i]].extend([boruta_feature[j]])"
   ]
  },
  {
   "cell_type": "code",
   "execution_count": 26,
   "metadata": {},
   "outputs": [
    {
     "data": {
      "text/plain": [
       "{'ym2618': ['ym0652', 'ym0474'],\n",
       " 'ym0052': ['ym0030', 'ym0198'],\n",
       " 'ym0051': ['ym0029', 'ym0197'],\n",
       " 'ym0049': ['ym0195'],\n",
       " 'ym0038': ['ym0062',\n",
       "  'ym0028',\n",
       "  'ym0074',\n",
       "  'ym0080',\n",
       "  'ym0174',\n",
       "  'ym0146',\n",
       "  'ym0090',\n",
       "  'ym0190',\n",
       "  'ym0258',\n",
       "  'ym0204',\n",
       "  'ym0328'],\n",
       " 'ym0036': ['ym0188'],\n",
       " 'ym0062': ['ym0028',\n",
       "  'ym0074',\n",
       "  'ym0080',\n",
       "  'ym0174',\n",
       "  'ym0146',\n",
       "  'ym0090',\n",
       "  'ym0190',\n",
       "  'ym0258',\n",
       "  'ym0204',\n",
       "  'ym0328'],\n",
       " 'ym0035': ['ym0187',\n",
       "  'ym0125',\n",
       "  'ym0099',\n",
       "  'ym2253',\n",
       "  'ym2101',\n",
       "  'ym0225',\n",
       "  'ym0215'],\n",
       " 'ym0029': ['ym0197'],\n",
       " 'ym0028': ['ym0074',\n",
       "  'ym0080',\n",
       "  'ym0174',\n",
       "  'ym0146',\n",
       "  'ym0190',\n",
       "  'ym0258',\n",
       "  'ym0204'],\n",
       " 'ym0025': ['ym2091'],\n",
       " 'ym0021': ['ym0183', 'ym2249', 'ym2087'],\n",
       " 'ym0019': ['ym0093', 'ym0193', 'ym0211'],\n",
       " 'ym0030': ['ym0198'],\n",
       " 'ym0074': ['ym0080',\n",
       "  'ym0174',\n",
       "  'ym0146',\n",
       "  'ym0090',\n",
       "  'ym0190',\n",
       "  'ym0258',\n",
       "  'ym0204',\n",
       "  'ym0328'],\n",
       " 'ym0080': ['ym0174',\n",
       "  'ym0146',\n",
       "  'ym0090',\n",
       "  'ym0190',\n",
       "  'ym0258',\n",
       "  'ym0204',\n",
       "  'ym0328'],\n",
       " 'ym0187': ['ym0125', 'ym0099', 'ym2253', 'ym2101', 'ym0225', 'ym0215'],\n",
       " 'ym0183': ['ym2249', 'ym2087'],\n",
       " 'ym0177': ['ym0111', 'ym0261'],\n",
       " 'ym0174': ['ym0146', 'ym0090', 'ym0190', 'ym0258', 'ym0204', 'ym0328'],\n",
       " 'ym0155': ['ym2311', 'ym2221', 'ym0245'],\n",
       " 'ym0153': ['ym2309', 'ym2219', 'ym0243', 'ym0306'],\n",
       " 'ym0146': ['ym0190', 'ym0258', 'ym0204', 'ym0328'],\n",
       " 'ym0125': ['ym0099', 'ym0225', 'ym0215'],\n",
       " 'ym0111': ['ym0261'],\n",
       " 'ym0099': ['ym0800', 'ym0225', 'ym0215'],\n",
       " 'ym0093': ['ym0193', 'ym0211'],\n",
       " 'ym0090': ['ym0190', 'ym2156', 'ym0258', 'ym0204'],\n",
       " 'ym0003': ['ym2075'],\n",
       " 'CD173': ['CD172', 'CD170', 'CD169', 'CD167', 'CD166'],\n",
       " 'CD109': ['CD105', 'CD104', 'CD103', 'CD110', 'CD111'],\n",
       " 'CD106': ['CD100'],\n",
       " 'CD105': ['CD103', 'CD111'],\n",
       " 'CD104': ['CD103', 'CD110'],\n",
       " 'CD103': ['CD111'],\n",
       " 'CD018': ['CD017',\n",
       "  'CD016',\n",
       "  'CD012',\n",
       "  'CD011',\n",
       "  'CD010',\n",
       "  'CD006',\n",
       "  'CD005',\n",
       "  'CD004',\n",
       "  'CD116',\n",
       "  'CD122',\n",
       "  'CD119',\n",
       "  'CD003',\n",
       "  'CD002',\n",
       "  'CD001'],\n",
       " 'CD017': ['CD016',\n",
       "  'CD012',\n",
       "  'CD011',\n",
       "  'CD010',\n",
       "  'CD006',\n",
       "  'CD005',\n",
       "  'CD004',\n",
       "  'CD123',\n",
       "  'CD120',\n",
       "  'CD117',\n",
       "  'CD003',\n",
       "  'CD002',\n",
       "  'CD001'],\n",
       " 'CD016': ['CD012',\n",
       "  'CD011',\n",
       "  'CD010',\n",
       "  'CD006',\n",
       "  'CD005',\n",
       "  'CD004',\n",
       "  'CD123',\n",
       "  'CD120',\n",
       "  'CD118',\n",
       "  'CD117',\n",
       "  'CD115',\n",
       "  'CD003',\n",
       "  'CD002',\n",
       "  'CD001'],\n",
       " 'CD012': ['CD011',\n",
       "  'CD010',\n",
       "  'CD006',\n",
       "  'CD005',\n",
       "  'CD004',\n",
       "  'CD116',\n",
       "  'CD122',\n",
       "  'CD119',\n",
       "  'CD003',\n",
       "  'CD002',\n",
       "  'CD001'],\n",
       " 'CD011': ['CD010',\n",
       "  'CD006',\n",
       "  'CD005',\n",
       "  'CD004',\n",
       "  'CD123',\n",
       "  'CD120',\n",
       "  'CD118',\n",
       "  'CD117',\n",
       "  'CD115',\n",
       "  'CD003',\n",
       "  'CD002',\n",
       "  'CD001'],\n",
       " 'CD010': ['CD006',\n",
       "  'CD005',\n",
       "  'CD004',\n",
       "  'CD116',\n",
       "  'CD120',\n",
       "  'CD119',\n",
       "  'CD118',\n",
       "  'CD117',\n",
       "  'CD115',\n",
       "  'CD003',\n",
       "  'CD002',\n",
       "  'CD001'],\n",
       " 'CD006': ['CD005', 'CD004', 'CD116', 'CD119', 'CD115', 'CD003', 'CD001'],\n",
       " 'CD005': ['CD004',\n",
       "  'CD123',\n",
       "  'CD120',\n",
       "  'CD117',\n",
       "  'CD115',\n",
       "  'CD003',\n",
       "  'CD002',\n",
       "  'CD001'],\n",
       " 'CD004': ['CD116', 'CD117', 'CD115', 'CD003', 'CD002', 'CD001'],\n",
       " 'ym0190': ['ym0258', 'ym0204', 'ym0328'],\n",
       " 'CD116': ['CD122', 'CD121', 'CD119', 'CD118', 'CD115'],\n",
       " 'CD172': ['CD170', 'CD169', 'CD167', 'CD166'],\n",
       " 'CD170': ['CD169', 'CD167', 'CD166'],\n",
       " 'CD169': ['CD167', 'CD166'],\n",
       " 'CD167': ['CD166'],\n",
       " 'CD164': ['CD162', 'CD158'],\n",
       " 'CD162': ['CD158'],\n",
       " 'CD123': ['CD121', 'CD120', 'CD118', 'CD117', 'CD115', 'CD002'],\n",
       " 'CD122': ['CD121', 'CD119', 'CD118', 'CD115'],\n",
       " 'CD121': ['CD120', 'CD119', 'CD118', 'CD117', 'CD115'],\n",
       " 'CD120': ['CD118', 'CD117', 'CD115', 'CD002'],\n",
       " 'CD119': ['CD118', 'CD115'],\n",
       " 'CD118': ['CD117', 'CD115'],\n",
       " 'CD117': ['CD115', 'CD002'],\n",
       " 'CD003': ['CD002', 'CD001'],\n",
       " 'ym0193': ['ym0211'],\n",
       " 'ym2014': ['ym0275'],\n",
       " 'ym2309': ['ym2219', 'ym2045', 'ym0243'],\n",
       " 'ym2311': ['ym2221', 'ym0245'],\n",
       " 'ym2331': ['ym2333'],\n",
       " 'ym2033': ['ym0294'],\n",
       " 'ym0922': ['ym0800', 'ym0215'],\n",
       " 'ym0660': ['ym0652', 'ym0544'],\n",
       " 'ym0652': ['ym0544', 'ym0474'],\n",
       " 'ym0646': ['ym0620'],\n",
       " 'ym0544': ['ym0474'],\n",
       " 'ym0800': ['ym0215'],\n",
       " 'ym2038': ['ym0299'],\n",
       " 'ym2040': ['ym0301'],\n",
       " 'ym2249': ['ym2087'],\n",
       " 'ym2253': ['ym2101'],\n",
       " 'ym2221': ['ym0245'],\n",
       " 'ym2219': ['ym2045', 'ym0243'],\n",
       " 'ym2061': ['ym0322'],\n",
       " 'ym2058': ['ym0319'],\n",
       " 'ym2057': ['ym0318'],\n",
       " 'ym2055': ['ym0316'],\n",
       " 'ym2045': ['ym0306'],\n",
       " 'ym0366': ['ym0358'],\n",
       " 'ym0267': ['ym0265'],\n",
       " 'ym0258': ['ym0204', 'ym0328'],\n",
       " 'ym0243': ['ym0306'],\n",
       " 'ym0225': ['ym0215'],\n",
       " 'ym0204': ['ym0328'],\n",
       " 'ym0358': ['ym0357'],\n",
       " 'ym0332': ['ym0329'],\n",
       " 'CD002': ['CD001'],\n",
       " 'TD010': ['TD006', 'TD014', 'TD009'],\n",
       " 'TD005': ['TD009'],\n",
       " 'TD013': ['TD014', 'TD009'],\n",
       " 'CR021': ['CR020']}"
      ]
     },
     "execution_count": 26,
     "metadata": {},
     "output_type": "execute_result"
    }
   ],
   "source": [
    "mydict"
   ]
  },
  {
   "cell_type": "code",
   "execution_count": 27,
   "metadata": {},
   "outputs": [],
   "source": [
    "mylist = []\n",
    "mykey = mydict.keys()\n",
    "deletekey = []\n",
    "for i in mykey:\n",
    "    if i not in mylist: \n",
    "        mylist.append(i)\n",
    "        mylist.extend(mydict[i])\n",
    "    else:\n",
    "        deletekey.append(i)"
   ]
  },
  {
   "cell_type": "code",
   "execution_count": 28,
   "metadata": {},
   "outputs": [],
   "source": [
    "for i in deletekey:\n",
    "    mydict.pop(i,None)"
   ]
  },
  {
   "cell_type": "code",
   "execution_count": 29,
   "metadata": {
    "scrolled": true
   },
   "outputs": [
    {
     "data": {
      "text/plain": [
       "{'ym2618': ['ym0652', 'ym0474'],\n",
       " 'ym0052': ['ym0030', 'ym0198'],\n",
       " 'ym0051': ['ym0029', 'ym0197'],\n",
       " 'ym0049': ['ym0195'],\n",
       " 'ym0038': ['ym0062',\n",
       "  'ym0028',\n",
       "  'ym0074',\n",
       "  'ym0080',\n",
       "  'ym0174',\n",
       "  'ym0146',\n",
       "  'ym0090',\n",
       "  'ym0190',\n",
       "  'ym0258',\n",
       "  'ym0204',\n",
       "  'ym0328'],\n",
       " 'ym0036': ['ym0188'],\n",
       " 'ym0035': ['ym0187',\n",
       "  'ym0125',\n",
       "  'ym0099',\n",
       "  'ym2253',\n",
       "  'ym2101',\n",
       "  'ym0225',\n",
       "  'ym0215'],\n",
       " 'ym0025': ['ym2091'],\n",
       " 'ym0021': ['ym0183', 'ym2249', 'ym2087'],\n",
       " 'ym0019': ['ym0093', 'ym0193', 'ym0211'],\n",
       " 'ym0177': ['ym0111', 'ym0261'],\n",
       " 'ym0155': ['ym2311', 'ym2221', 'ym0245'],\n",
       " 'ym0153': ['ym2309', 'ym2219', 'ym0243', 'ym0306'],\n",
       " 'ym0003': ['ym2075'],\n",
       " 'CD173': ['CD172', 'CD170', 'CD169', 'CD167', 'CD166'],\n",
       " 'CD109': ['CD105', 'CD104', 'CD103', 'CD110', 'CD111'],\n",
       " 'CD106': ['CD100'],\n",
       " 'CD018': ['CD017',\n",
       "  'CD016',\n",
       "  'CD012',\n",
       "  'CD011',\n",
       "  'CD010',\n",
       "  'CD006',\n",
       "  'CD005',\n",
       "  'CD004',\n",
       "  'CD116',\n",
       "  'CD122',\n",
       "  'CD119',\n",
       "  'CD003',\n",
       "  'CD002',\n",
       "  'CD001'],\n",
       " 'CD164': ['CD162', 'CD158'],\n",
       " 'CD123': ['CD121', 'CD120', 'CD118', 'CD117', 'CD115', 'CD002'],\n",
       " 'ym2014': ['ym0275'],\n",
       " 'ym2331': ['ym2333'],\n",
       " 'ym2033': ['ym0294'],\n",
       " 'ym0922': ['ym0800', 'ym0215'],\n",
       " 'ym0660': ['ym0652', 'ym0544'],\n",
       " 'ym0646': ['ym0620'],\n",
       " 'ym2038': ['ym0299'],\n",
       " 'ym2040': ['ym0301'],\n",
       " 'ym2061': ['ym0322'],\n",
       " 'ym2058': ['ym0319'],\n",
       " 'ym2057': ['ym0318'],\n",
       " 'ym2055': ['ym0316'],\n",
       " 'ym2045': ['ym0306'],\n",
       " 'ym0366': ['ym0358'],\n",
       " 'ym0267': ['ym0265'],\n",
       " 'ym0332': ['ym0329'],\n",
       " 'TD010': ['TD006', 'TD014', 'TD009'],\n",
       " 'TD005': ['TD009'],\n",
       " 'TD013': ['TD014', 'TD009'],\n",
       " 'CR021': ['CR020']}"
      ]
     },
     "execution_count": 29,
     "metadata": {},
     "output_type": "execute_result"
    }
   ],
   "source": [
    "mydict"
   ]
  },
  {
   "cell_type": "code",
   "execution_count": 30,
   "metadata": {},
   "outputs": [],
   "source": [
    "mydict_copy = mydict"
   ]
  },
  {
   "cell_type": "code",
   "execution_count": 31,
   "metadata": {
    "scrolled": true
   },
   "outputs": [
    {
     "data": {
      "text/plain": [
       "['ym2618',\n",
       " 'ym0198',\n",
       " 'ym0051',\n",
       " 'ym0049',\n",
       " 'ym0146',\n",
       " 'ym0036',\n",
       " 'ym2253',\n",
       " 'ym2091',\n",
       " 'ym0021',\n",
       " 'ym0211',\n",
       " 'ym0177',\n",
       " 'ym0155',\n",
       " 'ym2309',\n",
       " 'ym0003',\n",
       " 'CD169',\n",
       " 'CD109',\n",
       " 'CD106',\n",
       " 'CD119',\n",
       " 'CD164',\n",
       " 'CD118',\n",
       " 'ym2014',\n",
       " 'ym2333',\n",
       " 'ym0294',\n",
       " 'ym0800',\n",
       " 'ym0660',\n",
       " 'ym0646',\n",
       " 'ym2038',\n",
       " 'ym2040',\n",
       " 'ym2061',\n",
       " 'ym2058',\n",
       " 'ym2057',\n",
       " 'ym0316',\n",
       " 'ym2045',\n",
       " 'ym0358',\n",
       " 'ym0267',\n",
       " 'ym0329',\n",
       " 'TD009',\n",
       " 'TD009',\n",
       " 'TD009',\n",
       " 'CR021']"
      ]
     },
     "execution_count": 31,
     "metadata": {},
     "output_type": "execute_result"
    }
   ],
   "source": [
    "varlist = []\n",
    "for i in mydict_copy:\n",
    "    temp = i\n",
    "    for j in mydict_copy[i]:\n",
    "        if train[temp].corr(train['bad30']) < train[j].corr(train['bad30']):\n",
    "            temp = j\n",
    "    varlist.append(temp)\n",
    "varlist      "
   ]
  },
  {
   "cell_type": "code",
   "execution_count": 32,
   "metadata": {},
   "outputs": [
    {
     "data": {
      "text/plain": [
       "40"
      ]
     },
     "execution_count": 32,
     "metadata": {},
     "output_type": "execute_result"
    }
   ],
   "source": [
    "len(varlist)"
   ]
  },
  {
   "cell_type": "code",
   "execution_count": 33,
   "metadata": {
    "scrolled": true
   },
   "outputs": [
    {
     "data": {
      "text/plain": [
       "{'ym2618': ['ym0652', 'ym0474'],\n",
       " 'ym0052': ['ym0030', 'ym0198'],\n",
       " 'ym0051': ['ym0029', 'ym0197'],\n",
       " 'ym0049': ['ym0195'],\n",
       " 'ym0038': ['ym0062',\n",
       "  'ym0028',\n",
       "  'ym0074',\n",
       "  'ym0080',\n",
       "  'ym0174',\n",
       "  'ym0146',\n",
       "  'ym0090',\n",
       "  'ym0190',\n",
       "  'ym0258',\n",
       "  'ym0204',\n",
       "  'ym0328'],\n",
       " 'ym0036': ['ym0188'],\n",
       " 'ym0035': ['ym0187',\n",
       "  'ym0125',\n",
       "  'ym0099',\n",
       "  'ym2253',\n",
       "  'ym2101',\n",
       "  'ym0225',\n",
       "  'ym0215'],\n",
       " 'ym0025': ['ym2091'],\n",
       " 'ym0021': ['ym0183', 'ym2249', 'ym2087'],\n",
       " 'ym0019': ['ym0093', 'ym0193', 'ym0211'],\n",
       " 'ym0177': ['ym0111', 'ym0261'],\n",
       " 'ym0155': ['ym2311', 'ym2221', 'ym0245'],\n",
       " 'ym0153': ['ym2309', 'ym2219', 'ym0243', 'ym0306'],\n",
       " 'ym0003': ['ym2075'],\n",
       " 'CD173': ['CD172', 'CD170', 'CD169', 'CD167', 'CD166'],\n",
       " 'CD109': ['CD105', 'CD104', 'CD103', 'CD110', 'CD111'],\n",
       " 'CD106': ['CD100'],\n",
       " 'CD018': ['CD017',\n",
       "  'CD016',\n",
       "  'CD012',\n",
       "  'CD011',\n",
       "  'CD010',\n",
       "  'CD006',\n",
       "  'CD005',\n",
       "  'CD004',\n",
       "  'CD116',\n",
       "  'CD122',\n",
       "  'CD119',\n",
       "  'CD003',\n",
       "  'CD002',\n",
       "  'CD001'],\n",
       " 'CD164': ['CD162', 'CD158'],\n",
       " 'CD123': ['CD121', 'CD120', 'CD118', 'CD117', 'CD115', 'CD002'],\n",
       " 'ym2014': ['ym0275'],\n",
       " 'ym2331': ['ym2333'],\n",
       " 'ym2033': ['ym0294'],\n",
       " 'ym0922': ['ym0800', 'ym0215'],\n",
       " 'ym0660': ['ym0652', 'ym0544'],\n",
       " 'ym0646': ['ym0620'],\n",
       " 'ym2038': ['ym0299'],\n",
       " 'ym2040': ['ym0301'],\n",
       " 'ym2061': ['ym0322'],\n",
       " 'ym2058': ['ym0319'],\n",
       " 'ym2057': ['ym0318'],\n",
       " 'ym2055': ['ym0316'],\n",
       " 'ym2045': ['ym0306'],\n",
       " 'ym0366': ['ym0358'],\n",
       " 'ym0267': ['ym0265'],\n",
       " 'ym0332': ['ym0329'],\n",
       " 'TD010': ['TD006', 'TD014', 'TD009'],\n",
       " 'TD005': ['TD009'],\n",
       " 'TD013': ['TD014', 'TD009'],\n",
       " 'CR021': ['CR020']}"
      ]
     },
     "execution_count": 33,
     "metadata": {},
     "output_type": "execute_result"
    }
   ],
   "source": [
    "mydict_copy"
   ]
  },
  {
   "cell_type": "code",
   "execution_count": 34,
   "metadata": {},
   "outputs": [
    {
     "data": {
      "text/plain": [
       "172"
      ]
     },
     "execution_count": 34,
     "metadata": {},
     "output_type": "execute_result"
    }
   ],
   "source": [
    "templist = boruta_feature\n",
    "len(templist)"
   ]
  },
  {
   "cell_type": "code",
   "execution_count": 36,
   "metadata": {},
   "outputs": [
    {
     "data": {
      "text/plain": [
       "40"
      ]
     },
     "execution_count": 36,
     "metadata": {},
     "output_type": "execute_result"
    }
   ],
   "source": [
    "keys = mydict_copy.keys()\n",
    "len(keys)"
   ]
  },
  {
   "cell_type": "code",
   "execution_count": 37,
   "metadata": {},
   "outputs": [],
   "source": [
    "for i in keys:\n",
    "    templist.remove(i)"
   ]
  },
  {
   "cell_type": "code",
   "execution_count": 38,
   "metadata": {},
   "outputs": [
    {
     "data": {
      "text/plain": [
       "132"
      ]
     },
     "execution_count": 38,
     "metadata": {},
     "output_type": "execute_result"
    }
   ],
   "source": [
    "len(templist)"
   ]
  },
  {
   "cell_type": "code",
   "execution_count": 39,
   "metadata": {},
   "outputs": [
    {
     "data": {
      "text/plain": [
       "dict_values([['ym0652', 'ym0474'], ['ym0030', 'ym0198'], ['ym0029', 'ym0197'], ['ym0195'], ['ym0062', 'ym0028', 'ym0074', 'ym0080', 'ym0174', 'ym0146', 'ym0090', 'ym0190', 'ym0258', 'ym0204', 'ym0328'], ['ym0188'], ['ym0187', 'ym0125', 'ym0099', 'ym2253', 'ym2101', 'ym0225', 'ym0215'], ['ym2091'], ['ym0183', 'ym2249', 'ym2087'], ['ym0093', 'ym0193', 'ym0211'], ['ym0111', 'ym0261'], ['ym2311', 'ym2221', 'ym0245'], ['ym2309', 'ym2219', 'ym0243', 'ym0306'], ['ym2075'], ['CD172', 'CD170', 'CD169', 'CD167', 'CD166'], ['CD105', 'CD104', 'CD103', 'CD110', 'CD111'], ['CD100'], ['CD017', 'CD016', 'CD012', 'CD011', 'CD010', 'CD006', 'CD005', 'CD004', 'CD116', 'CD122', 'CD119', 'CD003', 'CD002', 'CD001'], ['CD162', 'CD158'], ['CD121', 'CD120', 'CD118', 'CD117', 'CD115', 'CD002'], ['ym0275'], ['ym2333'], ['ym0294'], ['ym0800', 'ym0215'], ['ym0652', 'ym0544'], ['ym0620'], ['ym0299'], ['ym0301'], ['ym0322'], ['ym0319'], ['ym0318'], ['ym0316'], ['ym0306'], ['ym0358'], ['ym0265'], ['ym0329'], ['TD006', 'TD014', 'TD009'], ['TD009'], ['TD014', 'TD009'], ['CR020']])"
      ]
     },
     "execution_count": 39,
     "metadata": {},
     "output_type": "execute_result"
    }
   ],
   "source": [
    "values = mydict_copy.values()\n",
    "values"
   ]
  },
  {
   "cell_type": "code",
   "execution_count": 40,
   "metadata": {
    "scrolled": true
   },
   "outputs": [
    {
     "data": {
      "text/plain": [
       "['ym0652',\n",
       " 'ym0474',\n",
       " 'ym0030',\n",
       " 'ym0198',\n",
       " 'ym0029',\n",
       " 'ym0197',\n",
       " 'ym0195',\n",
       " 'ym0062',\n",
       " 'ym0028',\n",
       " 'ym0074',\n",
       " 'ym0080',\n",
       " 'ym0174',\n",
       " 'ym0146',\n",
       " 'ym0090',\n",
       " 'ym0190',\n",
       " 'ym0258',\n",
       " 'ym0204',\n",
       " 'ym0328',\n",
       " 'ym0188',\n",
       " 'ym0187',\n",
       " 'ym0125',\n",
       " 'ym0099',\n",
       " 'ym2253',\n",
       " 'ym2101',\n",
       " 'ym0225',\n",
       " 'ym0215',\n",
       " 'ym2091',\n",
       " 'ym0183',\n",
       " 'ym2249',\n",
       " 'ym2087',\n",
       " 'ym0093',\n",
       " 'ym0193',\n",
       " 'ym0211',\n",
       " 'ym0111',\n",
       " 'ym0261',\n",
       " 'ym2311',\n",
       " 'ym2221',\n",
       " 'ym0245',\n",
       " 'ym2309',\n",
       " 'ym2219',\n",
       " 'ym0243',\n",
       " 'ym0306',\n",
       " 'ym2075',\n",
       " 'CD172',\n",
       " 'CD170',\n",
       " 'CD169',\n",
       " 'CD167',\n",
       " 'CD166',\n",
       " 'CD105',\n",
       " 'CD104',\n",
       " 'CD103',\n",
       " 'CD110',\n",
       " 'CD111',\n",
       " 'CD100',\n",
       " 'CD017',\n",
       " 'CD016',\n",
       " 'CD012',\n",
       " 'CD011',\n",
       " 'CD010',\n",
       " 'CD006',\n",
       " 'CD005',\n",
       " 'CD004',\n",
       " 'CD116',\n",
       " 'CD122',\n",
       " 'CD119',\n",
       " 'CD003',\n",
       " 'CD002',\n",
       " 'CD001',\n",
       " 'CD162',\n",
       " 'CD158',\n",
       " 'CD121',\n",
       " 'CD120',\n",
       " 'CD118',\n",
       " 'CD117',\n",
       " 'CD115',\n",
       " 'CD002',\n",
       " 'ym0275',\n",
       " 'ym2333',\n",
       " 'ym0294',\n",
       " 'ym0800',\n",
       " 'ym0215',\n",
       " 'ym0652',\n",
       " 'ym0544',\n",
       " 'ym0620',\n",
       " 'ym0299',\n",
       " 'ym0301',\n",
       " 'ym0322',\n",
       " 'ym0319',\n",
       " 'ym0318',\n",
       " 'ym0316',\n",
       " 'ym0306',\n",
       " 'ym0358',\n",
       " 'ym0265',\n",
       " 'ym0329',\n",
       " 'TD006',\n",
       " 'TD014',\n",
       " 'TD009',\n",
       " 'TD009',\n",
       " 'TD014',\n",
       " 'TD009',\n",
       " 'CR020']"
      ]
     },
     "execution_count": 40,
     "metadata": {},
     "output_type": "execute_result"
    }
   ],
   "source": [
    "valuelist = []\n",
    "for i in values:\n",
    "    for j in i:\n",
    "        valuelist.append(j)\n",
    "valuelist"
   ]
  },
  {
   "cell_type": "code",
   "execution_count": 41,
   "metadata": {},
   "outputs": [
    {
     "data": {
      "text/plain": [
       "38"
      ]
     },
     "execution_count": 41,
     "metadata": {},
     "output_type": "execute_result"
    }
   ],
   "source": [
    "a = list(set(templist) - set(valuelist))\n",
    "len(a)"
   ]
  },
  {
   "cell_type": "code",
   "execution_count": 42,
   "metadata": {},
   "outputs": [
    {
     "data": {
      "text/plain": [
       "40"
      ]
     },
     "execution_count": 42,
     "metadata": {},
     "output_type": "execute_result"
    }
   ],
   "source": [
    "len(varlist)"
   ]
  },
  {
   "cell_type": "code",
   "execution_count": 98,
   "metadata": {},
   "outputs": [
    {
     "data": {
      "text/plain": [
       "76"
      ]
     },
     "execution_count": 98,
     "metadata": {},
     "output_type": "execute_result"
    }
   ],
   "source": [
    "finallist = list(set(varlist + a))\n",
    "len(finallist)"
   ]
  },
  {
   "cell_type": "code",
   "execution_count": 99,
   "metadata": {
    "scrolled": true
   },
   "outputs": [],
   "source": [
    "finallist.append('MB006')"
   ]
  },
  {
   "cell_type": "code",
   "execution_count": 100,
   "metadata": {
    "scrolled": true
   },
   "outputs": [
    {
     "data": {
      "text/plain": [
       "['ym2309',\n",
       " 'ym0316',\n",
       " 'ym2253',\n",
       " 'ym0289',\n",
       " 'CR015',\n",
       " 'CR009',\n",
       " 'AP002',\n",
       " 'ym0079',\n",
       " 'ym0122',\n",
       " 'ym2045',\n",
       " 'ym2333',\n",
       " 'TD016',\n",
       " 'ym0357',\n",
       " 'CR021',\n",
       " 'ym0267',\n",
       " 'ym0305',\n",
       " 'ym2041',\n",
       " 'ym0004',\n",
       " 'CD118',\n",
       " 'ym2038',\n",
       " 'AP006',\n",
       " 'ym0329',\n",
       " 'CD119',\n",
       " 'ym0317',\n",
       " 'ym0646',\n",
       " 'CR008',\n",
       " 'ym2040',\n",
       " 'ym0296',\n",
       " 'ym0146',\n",
       " 'ym2058',\n",
       " 'ym0340',\n",
       " 'ym0360',\n",
       " 'ym0383',\n",
       " 'ym0051',\n",
       " 'ym0121',\n",
       " 'MB001',\n",
       " 'TD009',\n",
       " 'ym0027',\n",
       " 'ym0361',\n",
       " 'ym2061',\n",
       " 'ym2091',\n",
       " 'CD109',\n",
       " 'ym0358',\n",
       " 'ym0010',\n",
       " 'AP003',\n",
       " 'ym0294',\n",
       " 'ym0021',\n",
       " 'ym0155',\n",
       " 'ym0660',\n",
       " 'ym0312',\n",
       " 'ym2156',\n",
       " 'TD012',\n",
       " 'TD001',\n",
       " 'AP004',\n",
       " 'MB005',\n",
       " 'ym0049',\n",
       " 'ym0278',\n",
       " 'ym0384',\n",
       " 'ym2068',\n",
       " 'ym0286',\n",
       " 'ym0302',\n",
       " 'ym0036',\n",
       " 'TD002',\n",
       " 'ym0003',\n",
       " 'ym2057',\n",
       " 'ym0211',\n",
       " 'ym0198',\n",
       " 'CD164',\n",
       " 'CD169',\n",
       " 'CD106',\n",
       " 'ym2014',\n",
       " 'CR007',\n",
       " 'ym0800',\n",
       " 'ym0177',\n",
       " 'ym2618',\n",
       " 'ym2022',\n",
       " 'MB006']"
      ]
     },
     "execution_count": 100,
     "metadata": {},
     "output_type": "execute_result"
    }
   ],
   "source": [
    "finallist"
   ]
  },
  {
   "cell_type": "code",
   "execution_count": 2,
   "metadata": {},
   "outputs": [],
   "source": [
    "# find the final feature list without > 0.7 correaltion\n",
    "finallist = ['ym2309','ym0316','ym2253','ym0289','CR015','CR009','AP002','ym0079','ym0122','ym2045','ym2333','TD016',\n",
    "               'ym0357','CR021','ym0267','ym0305','ym2041','ym0004','CD118','ym2038','AP006','ym0329','CD119','ym0317',\n",
    "               'ym0646','CR008','ym2040','ym0296','ym0146','ym2058','ym0340','ym0360','ym0383','ym0051','ym0121','MB001',\n",
    "               'TD009','ym0027','ym0361','ym2061','ym2091','CD109','ym0358','ym0010','AP003','ym0294','ym0021','ym0155',\n",
    "               'ym0660','ym0312','ym2156','TD012','TD001','AP004','MB005','ym0049','ym0278','ym0384','ym2068','ym0286',\n",
    "               'ym0302','ym0036','TD002','ym0003','ym2057','ym0211','ym0198','CD164','CD169','CD106','ym2014','CR007',\n",
    "               'ym0800','ym0177','ym2618','ym2022','MB006']"
   ]
  },
  {
   "cell_type": "markdown",
   "metadata": {},
   "source": [
    "# Imbalanced Dataset"
   ]
  },
  {
   "cell_type": "markdown",
   "metadata": {},
   "source": [
    "We tried to deal with the imbalanced dataset problem by resampling, but it didn't give a better result. Here are the code below."
   ]
  },
  {
   "cell_type": "code",
   "execution_count": 109,
   "metadata": {},
   "outputs": [],
   "source": [
    "train = df_train.copy()\n",
    "test = df_test.copy()"
   ]
  },
  {
   "cell_type": "code",
   "execution_count": 110,
   "metadata": {},
   "outputs": [],
   "source": [
    "train = train.drop(columns = ['AP005'])\n",
    "test = test.drop(columns = ['AP005'])"
   ]
  },
  {
   "cell_type": "code",
   "execution_count": null,
   "metadata": {},
   "outputs": [],
   "source": [
    "from sklearn.utils import resample\n",
    "\n",
    "# Separate input features and target\n",
    "y_train = train.bad30\n",
    "X_train = train[finallist]\n",
    "\n",
    "# concatenate our training data back together\n",
    "X = pd.concat([X_train, y_train], axis=1)\n",
    "\n",
    "# separate minority and majority classes\n",
    "not_fraud = X[X.bad30==0.0]\n",
    "fraud = X[X.bad30==1.0]\n",
    "\n",
    "# upsample minority\n",
    "fraud_upsampled = resample(fraud,\n",
    "                          replace=True, # sample with replacement\n",
    "                          n_samples=len(not_fraud), # match number in majority class\n",
    "                          random_state=27) # reproducible results\n",
    "\n",
    "# combine majority and upsampled minority\n",
    "upsampled = pd.concat([not_fraud, fraud_upsampled])\n",
    "\n",
    "# check new class counts\n",
    "upsampled.bad30.value_counts()"
   ]
  },
  {
   "cell_type": "code",
   "execution_count": null,
   "metadata": {},
   "outputs": [],
   "source": [
    "upsampled.shape"
   ]
  },
  {
   "cell_type": "markdown",
   "metadata": {},
   "source": [
    "# Logistic Regression"
   ]
  },
  {
   "cell_type": "markdown",
   "metadata": {},
   "source": [
    "## Univariate Analysis"
   ]
  },
  {
   "cell_type": "code",
   "execution_count": null,
   "metadata": {},
   "outputs": [],
   "source": [
    "# New DataFrame for groupnig values\n",
    "gdf_train = pd.DataFrame()\n",
    "gdf_train['bad30'] = train['bad30']\n",
    "gdf_test = pd.DataFrame()\n",
    "gdf_test['bad30'] = test['bad30']"
   ]
  },
  {
   "cell_type": "code",
   "execution_count": 8,
   "metadata": {},
   "outputs": [],
   "source": [
    "# function for rebin\n",
    "def m_grp_train(col, bins):\n",
    "  bin = bins + [train[col].max()]\n",
    "  labels = bin[:-1]\n",
    "  gdf_train[col] = pd.cut(train[col], bin, labels = labels, include_lowest=True).astype(str)\n",
    "\n",
    "def m_grp_test(col, bins):\n",
    "  bin = bins + [test[col].max()]\n",
    "  labels = bin[:-1]\n",
    "  gdf_test[col] = pd.cut(test[col], bin, labels = labels, include_lowest=True).astype(str)"
   ]
  },
  {
   "cell_type": "code",
   "execution_count": 487,
   "metadata": {},
   "outputs": [],
   "source": [
    "import statsmodels.api as sm"
   ]
  },
  {
   "cell_type": "code",
   "execution_count": 10,
   "metadata": {
    "scrolled": false
   },
   "outputs": [
    {
     "data": {
      "text/plain": [
       "count    79939.000000\n",
       "mean         1.694805\n",
       "std          5.895670\n",
       "min          0.000000\n",
       "25%          0.000000\n",
       "50%          0.000000\n",
       "75%          0.000000\n",
       "max         60.000000\n",
       "Name: ym2309, dtype: float64"
      ]
     },
     "execution_count": 10,
     "metadata": {},
     "output_type": "execute_result"
    },
    {
     "data": {
      "image/png": "[encoded data removed]",
      "text/plain": [
       "<Figure size 432x288 with 1 Axes>"
      ]
     },
     "metadata": {
      "needs_background": "light"
     },
     "output_type": "display_data"
    }
   ],
   "source": [
    "sns.distplot(train['ym2309']);\n",
    "train['ym2309'].describe()"
   ]
  },
  {
   "cell_type": "code",
   "execution_count": 463,
   "metadata": {
    "scrolled": false
   },
   "outputs": [
    {
     "data": {
      "text/plain": [
       "count    19983.000000\n",
       "mean         0.009433\n",
       "std          0.014125\n",
       "min          0.000000\n",
       "25%          0.000300\n",
       "50%          0.004200\n",
       "75%          0.013100\n",
       "max          0.501500\n",
       "Name: ym2022, dtype: float64"
      ]
     },
     "execution_count": 463,
     "metadata": {},
     "output_type": "execute_result"
    },
    {
     "data": {
      "image/png": "[encoded data removed]",
      "text/plain": [
       "<Figure size 432x288 with 1 Axes>"
      ]
     },
     "metadata": {
      "needs_background": "light"
     },
     "output_type": "display_data"
    }
   ],
   "source": [
    "sns.distplot(test['ym2022']);\n",
    "test['ym2022'].describe()"
   ]
  },
  {
   "cell_type": "code",
   "execution_count": 475,
   "metadata": {
    "scrolled": false
   },
   "outputs": [
    {
     "name": "stdout",
     "output_type": "stream",
     "text": [
      "                 Generalized Linear Model Regression Results                  \n",
      "==============================================================================\n",
      "Dep. Variable:                  bad30   No. Observations:                79939\n",
      "Model:                            GLM   Df Residuals:                    79937\n",
      "Model Family:                Binomial   Df Model:                            1\n",
      "Link Function:                  logit   Scale:                          1.0000\n",
      "Method:                          IRLS   Log-Likelihood:                -38921.\n",
      "Date:                Wed, 04 Dec 2019   Deviance:                       77842.\n",
      "Time:                        17:03:29   Pearson chi2:                 7.99e+04\n",
      "No. Iterations:                     4                                         \n",
      "Covariance Type:            nonrobust                                         \n",
      "=====================================================================================\n",
      "                        coef    std err          z      P>|z|      [0.025      0.975]\n",
      "-------------------------------------------------------------------------------------\n",
      "Intercept            -1.4743      0.011   -134.324      0.000      -1.496      -1.453\n",
      "C(ym2022)[T.0.01]     0.0867      0.019      4.513      0.000       0.049       0.124\n",
      "=====================================================================================\n"
     ]
    },
    {
     "data": {
      "image/png": "[encoded data removed]",
      "text/plain": [
       "<Figure size 864x432 with 1 Axes>"
      ]
     },
     "metadata": {
      "needs_background": "light"
     },
     "output_type": "display_data"
    }
   ],
   "source": [
    "m_grp_train('ym2022', [0,0.01])\n",
    "plt.figure(figsize=(12,6))\n",
    "g=sns.countplot(gdf_train['ym2022'], color='greenyellow')\n",
    "plt.xticks(rotation=30)\n",
    "univa_model = sm.formula.glm(\"bad30~C(ym2022)\", data=gdf_train, family=sm.families.Binomial()).fit()\n",
    "print(univa_model.summary())\n",
    "# most p values are over .05, not qualify for input var"
   ]
  },
  {
   "cell_type": "code",
   "execution_count": 476,
   "metadata": {
    "scrolled": false
   },
   "outputs": [
    {
     "name": "stdout",
     "output_type": "stream",
     "text": [
      "                 Generalized Linear Model Regression Results                  \n",
      "==============================================================================\n",
      "Dep. Variable:                  bad30   No. Observations:                78175\n",
      "Model:                            GLM   Df Residuals:                    78163\n",
      "Model Family:                Binomial   Df Model:                           11\n",
      "Link Function:                  logit   Scale:                          1.0000\n",
      "Method:                          IRLS   Log-Likelihood:                -37962.\n",
      "Date:                Wed, 04 Dec 2019   Deviance:                       75924.\n",
      "Time:                        17:03:53   Pearson chi2:                 7.82e+04\n",
      "No. Iterations:                     5                                         \n",
      "Covariance Type:            nonrobust                                         \n",
      "=======================================================================================\n",
      "                          coef    std err          z      P>|z|      [0.025      0.975]\n",
      "---------------------------------------------------------------------------------------\n",
      "Intercept              -1.5798      0.024    -65.196      0.000      -1.627      -1.532\n",
      "C(MB006)[T.360]        -0.1325      0.223     -0.594      0.553      -0.570       0.305\n",
      "C(MB006)[T.APPLE]       0.0824      0.028      2.913      0.004       0.027       0.138\n",
      "C(MB006)[T.COOLPAD]     0.8489      0.338      2.508      0.012       0.186       1.512\n",
      "C(MB006)[T.GIONEE]      0.3260      0.097      3.354      0.001       0.135       0.517\n",
      "C(MB006)[T.HUAWEI]      0.0670      0.037      1.819      0.069      -0.005       0.139\n",
      "C(MB006)[T.LEECO]       0.2616      0.151      1.731      0.083      -0.035       0.558\n",
      "C(MB006)[T.MEIZU]       0.1952      0.096      2.028      0.043       0.007       0.384\n",
      "C(MB006)[T.OPPO]        0.2917      0.034      8.599      0.000       0.225       0.358\n",
      "C(MB006)[T.SAMSUNG]    -0.0471      0.068     -0.692      0.489      -0.181       0.086\n",
      "C(MB006)[T.VIVO]        0.3239      0.035      9.336      0.000       0.256       0.392\n",
      "C(MB006)[T.XIAOMI]      0.1402      0.056      2.512      0.012       0.031       0.250\n",
      "=======================================================================================\n"
     ]
    },
    {
     "data": {
      "image/png": "[encoded data removed]",
      "text/plain": [
       "<Figure size 864x432 with 1 Axes>"
      ]
     },
     "metadata": {
      "needs_background": "light"
     },
     "output_type": "display_data"
    }
   ],
   "source": [
    "gdf_train['MB006'] = train['MB006'].astype(str)\n",
    "#gdf_train.loc[gdf_train['CR007'] == '2.0', 'CR007'] = '3.0'\n",
    "#gdf_train.loc[gdf_train['CR007'] == '3.0', 'CR007'] = '1.0'\n",
    "plt.figure(figsize=(12,6))\n",
    "g=sns.countplot(gdf_train['MB006'], color='greenyellow')\n",
    "plt.xticks(rotation=30)\n",
    "univa_model = sm.formula.glm(\"bad30~C(MB006)\", data=gdf_train, family=sm.families.Binomial()).fit()\n",
    "print(univa_model.summary())"
   ]
  },
  {
   "cell_type": "code",
   "execution_count": 25,
   "metadata": {},
   "outputs": [
    {
     "name": "stdout",
     "output_type": "stream",
     "text": [
      "                 Generalized Linear Model Regression Results                  \n",
      "==============================================================================\n",
      "Dep. Variable:                  bad30   No. Observations:                79939\n",
      "Model:                            GLM   Df Residuals:                    79937\n",
      "Model Family:                Binomial   Df Model:                            1\n",
      "Link Function:                  logit   Scale:                          1.0000\n",
      "Method:                          IRLS   Log-Likelihood:                -38918.\n",
      "Date:                Wed, 04 Dec 2019   Deviance:                       77837.\n",
      "Time:                        15:09:31   Pearson chi2:                 7.99e+04\n",
      "No. Iterations:                     4                                         \n",
      "Covariance Type:            nonrobust                                         \n",
      "===================================================================================\n",
      "                      coef    std err          z      P>|z|      [0.025      0.975]\n",
      "-----------------------------------------------------------------------------------\n",
      "Intercept          -1.3749      0.017    -83.164      0.000      -1.407      -1.342\n",
      "C(CR015)[T.6.0]    -0.1009      0.020     -5.117      0.000      -0.140      -0.062\n",
      "===================================================================================\n"
     ]
    },
    {
     "data": {
      "image/png": "[encoded data removed]",
      "text/plain": [
       "<Figure size 864x432 with 1 Axes>"
      ]
     },
     "metadata": {
      "needs_background": "light"
     },
     "output_type": "display_data"
    }
   ],
   "source": [
    "gdf_train['CR015'] = df_train['CR015'].astype(str)\n",
    "gdf_train.loc[gdf_train['CR015'] == '2.0', 'CR015'] = '0.0'\n",
    "gdf_train.loc[gdf_train['CR015'] == '3.0', 'CR015'] = '0.0'\n",
    "gdf_train.loc[gdf_train['CR015'] == '5.0', 'CR015'] = '6.0'\n",
    "gdf_train.loc[gdf_train['CR015'] == '1.0', 'CR015'] = '0.0'\n",
    "gdf_train.loc[gdf_train['CR015'] == '4.0', 'CR015'] = '6.0'\n",
    "\n",
    "plt.figure(figsize=(12,6))\n",
    "g=sns.countplot(gdf_train['CR015'], color='greenyellow')\n",
    "plt.xticks(rotation=30)\n",
    "univa_model = sm.formula.glm(\"bad30~C(CR015)\", data=gdf_train, family=sm.families.Binomial()).fit()\n",
    "print(univa_model.summary())\n",
    "# Now the p values look good"
   ]
  },
  {
   "cell_type": "code",
   "execution_count": 658,
   "metadata": {},
   "outputs": [
    {
     "name": "stdout",
     "output_type": "stream",
     "text": [
      "                 Generalized Linear Model Regression Results                  \n",
      "==============================================================================\n",
      "Dep. Variable:                  bad30   No. Observations:               129414\n",
      "Model:                            GLM   Df Residuals:                   129412\n",
      "Model Family:                Binomial   Df Model:                            1\n",
      "Link Function:                  logit   Scale:                          1.0000\n",
      "Method:                          IRLS   Log-Likelihood:                -89696.\n",
      "Date:                Tue, 03 Dec 2019   Deviance:                   1.7939e+05\n",
      "Time:                        16:19:49   Pearson chi2:                 1.29e+05\n",
      "No. Iterations:                     4                                         \n",
      "Covariance Type:            nonrobust                                         \n",
      "=======================================================================================\n",
      "                          coef    std err          z      P>|z|      [0.025      0.975]\n",
      "---------------------------------------------------------------------------------------\n",
      "Intercept               0.0031      0.006      0.545      0.586      -0.008       0.014\n",
      "C(MB006)[T.SAMSUNG]    -0.1415      0.038     -3.699      0.000      -0.216      -0.066\n",
      "=======================================================================================\n"
     ]
    },
    {
     "data": {
      "image/png": "[encoded data removed]",
      "text/plain": [
       "<Figure size 864x432 with 1 Axes>"
      ]
     },
     "metadata": {
      "needs_background": "light"
     },
     "output_type": "display_data"
    }
   ],
   "source": [
    "gdf_train['MB006'] = train_set['MB006'].astype(str)\n",
    "gdf_train.loc[gdf_train['MB006'] != 'SAMSUNG', 'MB006'] = 'NON-SAMSUNG'\n",
    "plt.figure(figsize=(12,6))\n",
    "g=sns.countplot(gdf_train['MB006'], color='greenyellow')\n",
    "plt.xticks(rotation=30)\n",
    "univa_model = sm.formula.glm(\"bad30~C(MB006)\", data=gdf_train, family=sm.families.Binomial()).fit()\n",
    "print(univa_model.summary())"
   ]
  },
  {
   "cell_type": "code",
   "execution_count": 1184,
   "metadata": {
    "scrolled": true
   },
   "outputs": [
    {
     "name": "stdout",
     "output_type": "stream",
     "text": [
      "                 Generalized Linear Model Regression Results                  \n",
      "==============================================================================\n",
      "Dep. Variable:                  bad30   No. Observations:               129414\n",
      "Model:                            GLM   Df Residuals:                   129412\n",
      "Model Family:                Binomial   Df Model:                            1\n",
      "Link Function:                  logit   Scale:                          1.0000\n",
      "Method:                          IRLS   Log-Likelihood:                -89561.\n",
      "Date:                Wed, 04 Dec 2019   Deviance:                   1.7912e+05\n",
      "Time:                        02:09:45   Pearson chi2:                 1.29e+05\n",
      "No. Iterations:                     4                                         \n",
      "Covariance Type:            nonrobust                                         \n",
      "====================================================================================\n",
      "                       coef    std err          z      P>|z|      [0.025      0.975]\n",
      "------------------------------------------------------------------------------------\n",
      "Intercept           -0.0422      0.006     -6.917      0.000      -0.054      -0.030\n",
      "C(ym0384)[T.1.0]     0.2510      0.015     16.823      0.000       0.222       0.280\n",
      "====================================================================================\n"
     ]
    },
    {
     "data": {
      "image/png": "[encoded data removed]",
      "text/plain": [
       "<Figure size 864x432 with 1 Axes>"
      ]
     },
     "metadata": {
      "needs_background": "light"
     },
     "output_type": "display_data"
    }
   ],
   "source": [
    "gdf_train['ym0384'] = df_train['ym0384'].astype(str)\n",
    "gdf_train.loc[gdf_train['ym0384'] == '2.0', 'ym0384'] = '1.0'\n",
    "plt.figure(figsize=(12,6))\n",
    "g=sns.countplot(gdf_train['ym0384'], color='greenyellow')\n",
    "plt.xticks(rotation=30)\n",
    "univa_model = sm.formula.glm(\"bad30~C(ym0384)\", data=gdf_train, family=sm.families.Binomial()).fit()\n",
    "print(univa_model.summary())\n",
    "# Now the p values look good"
   ]
  },
  {
   "cell_type": "markdown",
   "metadata": {},
   "source": [
    "## Binning"
   ]
  },
  {
   "cell_type": "code",
   "execution_count": null,
   "metadata": {},
   "outputs": [],
   "source": [
    "#rebin variables in train dataset\n",
    "gdf_train['AP002'] = df_train['AP002'].astype(str)\n",
    "gdf_train['AP003'] = df_train['AP003'].astype(str)\n",
    "gdf_train.loc[gdf_train['AP003'] == '1.0', 'AP003'] = '0.0'\n",
    "gdf_train.loc[gdf_train['AP003'] == '5.0', 'AP003'] = '4.0'\n",
    "gdf_train.loc[gdf_train['AP003'] == '6.0', 'AP003'] = '4.0'\n",
    "gdf_train['AP004'] = df_train['AP004'].astype(str)\n",
    "gdf_train['AP006'] = df_train['AP006']\n",
    "gdf_train['CR008'] = df_train['CR008'].astype(str)\n",
    "m_grp_train('TD010', [-5,0,5,10,15,20])\n",
    "m_grp_train('TD013', [-5,5,15,25,35])\n",
    "m_grp_train('TD001', [0,1,2,3,4,5])\n",
    "m_grp_train('TD016', [0,1])\n",
    "m_grp_train('MB005', [0,5,10,15])\n",
    "m_grp_train('CD164', [-99,0,5,15,20])\n",
    "m_grp_train('ym0361', [-0.1,0.3,0.5,0.7,0.9])\n",
    "m_grp_train('ym0294', [0,0.02,0.04])\n",
    "m_grp_train('ym0004', [0,0.2,0.3])\n",
    "m_grp_train('ym0317', [0, 0.03,0.06])\n",
    "m_grp_train('ym0403', [0, 25,50,100])\n",
    "m_grp_train('ym0329', [0, 0.2, 0.25, 0.3, 0.4, 0.5])\n",
    "m_grp_train('ym0302', [0, 0.0025, 0.005, 0.0075, 0.01])\n",
    "m_grp_train('ym2055', [0,0.03,0.06])\n",
    "m_grp_train('ym0036', [0,0.5,1,1.5,2,2.5])\n",
    "m_grp_train('ym0366', [0,0.2,0.4,0.6])\n",
    "m_grp_train('ym0052', [0,1,2])\n",
    "m_grp_train('ym0922', [0,30,60])\n",
    "m_grp_train('ym0155', [0, 50, 80, 100, 150,200, 300])\n",
    "m_grp_train('ym0051', [0, 20,150])\n",
    "m_grp_train('ym0153', [0, 20, 50, 100, 150])"
   ]
  },
  {
   "cell_type": "code",
   "execution_count": null,
   "metadata": {},
   "outputs": [],
   "source": [
    "#rebin variables in test dataset\n",
    "gdf_test['AP002'] = df_test['AP002'].astype(str)\n",
    "gdf_test['AP003'] = df_test['AP003'].astype(str)\n",
    "gdf_test.loc[gdf_test['AP003'] == '1.0', 'AP003'] = '0.0'\n",
    "gdf_test.loc[gdf_test['AP003'] == '5.0', 'AP003'] = '4.0'\n",
    "gdf_test.loc[gdf_test['AP003'] == '6.0', 'AP003'] = '4.0'\n",
    "gdf_test['AP004'] = df_test['AP004'].astype(str)\n",
    "gdf_test['AP006'] = df_test['AP006']\n",
    "gdf_test['CR008'] = df_test['CR008'].astype(str)\n",
    "m_grp_test('TD010', [-5,0,5,10,15,20])\n",
    "m_grp_test('TD013', [-5,5,15,25,35])\n",
    "m_grp_test('TD001', [0,1,2,3,4,5])\n",
    "m_grp_test('TD016', [0,1])\n",
    "m_grp_test('MB005', [0,5,10,15])\n",
    "m_grp_test('CD164', [-99,0,5,15,20])\n",
    "m_grp_test('ym0361', [-0.1,0.3,0.5,0.7,0.9])\n",
    "m_grp_test('ym0294', [0,0.02,0.04])\n",
    "m_grp_test('ym0004', [0,0.2,0.3])\n",
    "m_grp_test('ym0317', [0, 0.03,0.06])\n",
    "m_grp_test('ym0403', [0, 25,50,100])\n",
    "m_grp_test('ym0329', [0, 0.2, 0.25, 0.3, 0.4, 0.5])\n",
    "m_grp_test('ym0302', [0, 0.0025, 0.005, 0.0075, 0.01])\n",
    "m_grp_test('ym2055', [0,0.03,0.06])\n",
    "m_grp_test('ym0036', [0,0.5,1,1.5,2,2.5])\n",
    "m_grp_test('ym0366', [0,0.2,0.4,0.6])\n",
    "m_grp_test('ym0052', [0,1,2])\n",
    "m_grp_test('ym0922', [0,30,60])\n",
    "m_grp_test('ym0155', [0, 50, 80, 100, 150,200, 300])\n",
    "m_grp_test('ym0051', [0, 20,150])\n",
    "m_grp_test('ym0153', [0, 20, 50, 100, 150])"
   ]
  },
  {
   "cell_type": "code",
   "execution_count": null,
   "metadata": {},
   "outputs": [],
   "source": [
    "from sklearn.linear_model import LogisticRegression"
   ]
  },
  {
   "cell_type": "code",
   "execution_count": null,
   "metadata": {},
   "outputs": [],
   "source": [
    "gdf_test.loc[:, gdf_test.columns != 'bad30']"
   ]
  },
  {
   "cell_type": "markdown",
   "metadata": {},
   "source": [
    "## Stepwise feature selection"
   ]
  },
  {
   "cell_type": "markdown",
   "metadata": {},
   "source": [
    "We have mannually done stepwise feature selection based on the ones that's been selected by Boruta method, and below are the final result of our model."
   ]
  },
  {
   "cell_type": "markdown",
   "metadata": {},
   "source": [
    "## Model with 26 variables"
   ]
  },
  {
   "cell_type": "code",
   "execution_count": null,
   "metadata": {},
   "outputs": [],
   "source": [
    "multi_model = sm.formula.glm(\"bad30~C(AP002)+C(AP003)+C(AP004)\\\n",
    "                             +C(AP006)+C(TD013)+C(TD010)+C(CR008)+C(TD001)+C(TD016)+C(MB005)\\\n",
    "                             +C(CD164)+C(ym0361)+C(ym0294)+C(ym0004)+C(ym0317)+C(ym0403)+C(ym0329)\\\n",
    "                             +C(ym0302)+C(ym2055)+C(ym0036)+C(ym0366)+C(ym0052)+C(ym0922)+C(ym0155)\\\n",
    "                             +C(ym0051)+C(ym0153)\"\\\n",
    "                             , data=gdf_train, family=sm.families.Binomial()).fit()\n",
    "print(multi_model.summary())"
   ]
  },
  {
   "cell_type": "code",
   "execution_count": null,
   "metadata": {},
   "outputs": [],
   "source": [
    "from sklearn.metrics import roc_auc_score\n",
    "\n",
    "probs = multi_model.predict(gdf_test)\n",
    "roc = roc_auc_score(gdf_test['bad30'], y_score=probs)\n",
    "print(\"RF roc score: {}\".format(roc))"
   ]
  },
  {
   "cell_type": "code",
   "execution_count": null,
   "metadata": {},
   "outputs": [],
   "source": [
    "pred = multi_model.predict(gdf_test)\n",
    "pred_prob = pred"
   ]
  },
  {
   "cell_type": "code",
   "execution_count": null,
   "metadata": {},
   "outputs": [],
   "source": [
    "round(pred.sum())/gdf_test['bad30'].value_counts()[1]"
   ]
  },
  {
   "cell_type": "code",
   "execution_count": null,
   "metadata": {},
   "outputs": [],
   "source": [
    "pred_scores = pd.DataFrame(columns=['actual','predict','pred_prob'])\n",
    "pred_scores['actual'] = gdf_test['bad30'].astype(int)\n",
    "pred_scores['pred_prob'] = pd.DataFrame(pred_prob)\n",
    "pred_scores = pred_scores.sort_values(by='pred_prob',ascending=False)\n",
    "pred_scores['row_id'] = range(0,0+len(pred_scores))\n",
    "pred_scores['decile'] = ( pred_scores['row_id'] / (len(pred_scores)/10) ).astype(int)\n",
    "pred_scores.loc[pred_scores['decile'] == 10]=9\n",
    "pred_scores['decile'].value_counts()"
   ]
  },
  {
   "cell_type": "code",
   "execution_count": null,
   "metadata": {},
   "outputs": [],
   "source": [
    "gains = pred_scores.groupby('decile')['actual'].agg(['count','sum'])\n",
    "gains.columns = ['count','actual']\n",
    "gains['pred'] = (pred_scores.groupby('decile')['pred_prob'].agg(['sum'])).round()\n",
    "gains['actual %'] = round(gains['actual']/gains['count'], 4)*100\n",
    "gains['pred %'] = round(gains['pred']/gains['count'], 4)*100\n",
    "gains['act_avg'] = sum(gains['actual']) /10 \n",
    "gains['model lift'] = (gains['pred'] / gains['act_avg']).round(2)*100\n",
    "gains['A/P'] = (gains['actual %']/gains['pred %']).round(2)*100\n",
    "gains"
   ]
  },
  {
   "cell_type": "markdown",
   "metadata": {},
   "source": [
    "## Model without third party variabels"
   ]
  },
  {
   "cell_type": "code",
   "execution_count": null,
   "metadata": {},
   "outputs": [],
   "source": [
    "multi_model = sm.formula.glm(\"bad30~C(AP002)+C(AP003)+C(AP004)\\\n",
    "                             +C(AP006)+C(TD013)+C(TD010)+C(CR008)+C(TD001)+C(TD016)+C(MB005)\\\n",
    "                             +C(CD164)\"\\\n",
    "                             , data=gdf_train, family=sm.families.Binomial()).fit()\n",
    "print(multi_model.summary())"
   ]
  },
  {
   "cell_type": "code",
   "execution_count": null,
   "metadata": {},
   "outputs": [],
   "source": [
    "from sklearn.metrics import roc_auc_score\n",
    "\n",
    "probs = multi_model.predict(gdf_test)\n",
    "roc = roc_auc_score(gdf_test['bad30'], y_score=probs)\n",
    "print(\"RF roc score: {}\".format(roc))"
   ]
  },
  {
   "cell_type": "code",
   "execution_count": null,
   "metadata": {},
   "outputs": [],
   "source": [
    "pred = multi_model.predict(gdf_test)\n",
    "pred_prob = pred"
   ]
  },
  {
   "cell_type": "code",
   "execution_count": null,
   "metadata": {},
   "outputs": [],
   "source": [
    "round(pred.sum())/gdf_test['bad30'].value_counts()[1]"
   ]
  },
  {
   "cell_type": "code",
   "execution_count": null,
   "metadata": {},
   "outputs": [],
   "source": [
    "pred_scores = pd.DataFrame(columns=['actual','predict','pred_prob'])\n",
    "pred_scores['actual'] = gdf_test['bad30'].astype(int)\n",
    "pred_scores['pred_prob'] = pd.DataFrame(pred_prob)\n",
    "pred_scores = pred_scores.sort_values(by='pred_prob',ascending=False)\n",
    "pred_scores['row_id'] = range(0,0+len(pred_scores))\n",
    "pred_scores['decile'] = ( pred_scores['row_id'] / (len(pred_scores)/10) ).astype(int)\n",
    "pred_scores.loc[pred_scores['decile'] == 10]=9\n",
    "pred_scores['decile'].value_counts()"
   ]
  },
  {
   "cell_type": "code",
   "execution_count": null,
   "metadata": {},
   "outputs": [],
   "source": [
    "gains = pred_scores.groupby('decile')['actual'].agg(['count','sum'])\n",
    "gains.columns = ['count','actual']\n",
    "gains['pred'] = (pred_scores.groupby('decile')['pred_prob'].agg(['sum'])).round()\n",
    "gains['actual %'] = round(gains['actual']/gains['count'], 4)*100\n",
    "gains['pred %'] = round(gains['pred']/gains['count'], 4)*100\n",
    "gains['act_avg'] = sum(gains['actual']) /10 \n",
    "gains['model lift'] = (gains['pred'] / gains['act_avg']).round(2)*100\n",
    "gains['A/P'] = (gains['actual %']/gains['pred %']).round(2)*100\n",
    "gains"
   ]
  },
  {
   "cell_type": "markdown",
   "metadata": {},
   "source": [
    "## Evaluation"
   ]
  },
  {
   "cell_type": "code",
   "execution_count": null,
   "metadata": {},
   "outputs": [],
   "source": [
    "# final model results with K-S score\n",
    "gains = pred_scores.groupby('decile')['actual'].agg(['count','sum'])\n",
    "gains.columns = ['count','actual']\n",
    "gains['pred'] = (pred_scores.groupby('decile')['pred_prob'].agg(['sum'])).round()\n",
    "gains['pred_good']=gains['count']-gains['pred']\n",
    "gains['actual %'] = round(gains['actual']/gains['count'], 4)*100\n",
    "gains['pred %'] = round(gains['pred']/gains['count'], 4)*100\n",
    "gains['act_avg'] = sum(gains['actual']) /10 \n",
    "gains['model lift'] = (gains['pred'] / gains['act_avg']).round(2)*100\n",
    "gains['A/P'] = (gains['actual %']/gains['pred %']).round(2)*100\n",
    "gains['KS_Stats']= np.round(((gains['pred']/gains['pred'].sum()).cumsum()-(gains['pred_good']/gains['pred_good'].sum()).cumsum()),4)*100\n",
    "gains"
   ]
  },
  {
   "cell_type": "markdown",
   "metadata": {},
   "source": [
    "# XGBoost"
   ]
  },
  {
   "cell_type": "markdown",
   "metadata": {},
   "source": [
    "## Model Development"
   ]
  },
  {
   "cell_type": "code",
   "execution_count": null,
   "metadata": {},
   "outputs": [],
   "source": [
    "from xgboost import XGBClassifier\n",
    "XGB = XGBClassifier(n_estimators=100, n_jobs=6, verbose=1)\n",
    "# List the default parameters.\n",
    "print(XGB.get_xgb_params())"
   ]
  },
  {
   "cell_type": "code",
   "execution_count": null,
   "metadata": {},
   "outputs": [],
   "source": [
    "# Train and evaluate \n",
    "XGB.fit(X_train, y_train)\n",
    "#XGB.fit(X_train, y_train, eval_metric=['rmse'], eval_set=[((X_train, y_train)),(X_test, y_test)])"
   ]
  },
  {
   "cell_type": "code",
   "execution_count": null,
   "metadata": {},
   "outputs": [],
   "source": [
    "from sklearn.metrics import roc_auc_score\n",
    "\n",
    "probs = XGB.predict_proba(X_test)\n",
    "roc = roc_auc_score(y_true=y_test, y_score=probs[:, 1])\n",
    "print(\"RF roc score: {}\".format(roc))"
   ]
  },
  {
   "cell_type": "code",
   "execution_count": null,
   "metadata": {},
   "outputs": [],
   "source": [
    "a = y_test.value_counts()\n",
    "print(a)"
   ]
  },
  {
   "cell_type": "code",
   "execution_count": null,
   "metadata": {},
   "outputs": [],
   "source": [
    "print(probs)\n",
    "total = 0\n",
    "prediction = []\n",
    "for i in probs:\n",
    "    total += i[1]\n",
    "    prediction.append(i[1])\n",
    "print(total)\n",
    "total/a[1]"
   ]
  },
  {
   "cell_type": "code",
   "execution_count": null,
   "metadata": {},
   "outputs": [],
   "source": [
    "from sklearn.metrics import classification_report, confusion_matrix\n",
    "from sklearn.metrics import accuracy_score\n",
    "pred_scores = pd.DataFrame(columns=['actual','predict','pred_prob'])\n",
    "pred_scores['actual'] = y_test\n",
    "pred_scores['pred_prob'] = pd.DataFrame(prediction)\n",
    "pred_scores = pred_scores.sort_values(by='pred_prob',ascending=False)\n",
    "pred_scores['row_id'] = range(0,0+len(pred_scores))\n",
    "pred_scores['decile'] = ( pred_scores['row_id'] / (len(pred_scores)/10) ).astype(int)\n",
    "pred_scores.loc[pred_scores['decile'] == 10]=9\n",
    "pred_scores['decile'].value_counts()"
   ]
  },
  {
   "cell_type": "markdown",
   "metadata": {},
   "source": [
    "## Evaluation"
   ]
  },
  {
   "cell_type": "code",
   "execution_count": null,
   "metadata": {},
   "outputs": [],
   "source": [
    "gains = pred_scores.groupby('decile')['actual'].agg(['count','sum'])\n",
    "gains.columns = ['count','actual']\n",
    "gains['pred'] = (pred_scores.groupby('decile')['pred_prob'].agg(['sum'])).round()\n",
    "gains['actual %'] = round(gains['actual']/gains['count'], 4)*100\n",
    "gains['pred %'] = round(gains['pred']/gains['count'], 4)*100\n",
    "gains['act_avg'] = sum(gains['actual']) /10 \n",
    "gains['model lift'] = (gains['pred'] / gains['act_avg']).round(2)*100\n",
    "gains['A/P'] = (gains['actual %']/gains['pred %']).round(2)*100\n",
    "gains"
   ]
  },
  {
   "cell_type": "code",
   "execution_count": null,
   "metadata": {},
   "outputs": [],
   "source": [
    "from sklearn import model_selection\n",
    "from sklearn.model_selection import cross_val_score\n",
    "kfold = model_selection.KFold(n_splits=10, random_state=7)\n",
    "modelCV = XGB\n",
    "scoring = 'accuracy'\n",
    "results = model_selection.cross_val_score(modelCV, X_train, y_train, cv=kfold, scoring=scoring)\n",
    "print(\"10-fold cross validation average accuracy: {}\".format(results.mean()))"
   ]
  },
  {
   "cell_type": "markdown",
   "metadata": {},
   "source": [
    "# h2o"
   ]
  },
  {
   "cell_type": "markdown",
   "metadata": {},
   "source": [
    "## Binning"
   ]
  },
  {
   "cell_type": "code",
   "execution_count": null,
   "metadata": {},
   "outputs": [],
   "source": [
    "['ym2309', m_grp_train('ym2309', [0,10,20,30]) #1.23\n",
    "'ym0316', m_grp_train('ym0316', [0,0.01]) #1.39\n",
    " 'ym2253', m_grp_train('ym2253', [0,20,40]) #1.15\n",
    " 'ym0289', m_grp_train('ym0289', [0,0.01]) #1.37\n",
    " 'CR015', gdf_train['CR015'] = df_train['CR015'].astype(str)\n",
    "gdf_train.loc[gdf_train['CR015'] == '2.0', 'CR015'] = '0.0'\n",
    "gdf_train.loc[gdf_train['CR015'] == '3.0', 'CR015'] = '0.0'\n",
    "gdf_train.loc[gdf_train['CR015'] == '5.0', 'CR015'] = '6.0'\n",
    "gdf_train.loc[gdf_train['CR015'] == '1.0', 'CR015'] = '0.0'\n",
    "gdf_train.loc[gdf_train['CR015'] == '4.0', 'CR015'] = '6.0' #1.27\n",
    " 'CR009', m_grp_train('CR009', [0,50000,100000]) #0.77\n",
    " 'AP002', gdf_train['AP002'] = train_set['AP002'].astype(str) #0.14\n",
    " 'ym0079', m_grp_train('ym0079', [0,0.01,50])\n",
    " 'ym0122', gdf_train['ym0122'] = df_train['ym0122'].astype(str)\n",
    "gdf_train.loc[gdf_train['ym0122'] == '4.0', 'ym0122'] = '3.0'\n",
    "gdf_train.loc[gdf_train['ym0122'] == '5.0', 'ym0122'] = '3.0'\n",
    "gdf_train.loc[gdf_train['ym0122'] == '6.0', 'ym0122'] = '3.0'\n",
    " 'ym2045', m_grp_train('ym2045', [0,0.1,0.2,0.3])\n",
    " 'ym2333', m_grp_train('ym2333', [0,0.7,0.8,0.9]) #0.41\n",
    " 'TD016', gdf_train['TD016'] = train['TD016'].astype(str)\n",
    "gdf_train.loc[gdf_train['TD016'] == '3.0', 'TD016'] = '2.0'\n",
    " 'ym0357', m_grp_train('ym0357', [0,0.5,0.7,0.9])\n",
    " 'CR021', m_grp_train('CR021', [-50000,10000,50000])\n",
    " 'ym0267', m_grp_train('ym0267', [0,0.6,0.9]) #0.36\n",
    " 'ym0305', m_grp_train('ym0305', [0,0.01,0.05,0.2])\n",
    " 'ym2041', m_grp_train('ym2041', [0,0.001,0.005,0.01,0.02])\n",
    " 'ym0004', m_grp_train('ym0004', [0,0.2,0.3])\n",
    " 'CD118', m_grp_train('CD118', [-99,0,500])\n",
    " 'ym2038', m_grp_train('ym2038', [0,0.0001,0.1])\n",
    " 'AP006', gdf_train['AP006'] = train_set['AP006'].astype(str) #0.43\n",
    " 'ym0329', m_grp_train('ym0329', [0,0.2,0.4]) \n",
    " 'CD119', m_grp_train('CD119', [-99,0,300])\n",
    " 'ym0317', m_grp_train('ym0317', [0,0.01,0.05])\n",
    " 'ym0646', m_grp_train('ym0646', [0,1,100]) #0.2\n",
    " 'CR008', gdf_train['CR008'] = train_set['CR008'].astype(str) #0.52\n",
    " 'ym2040', m_grp_train('ym2040', [0,0.01,0.02,0.05])\n",
    " 'ym0296', m_grp_train('ym0296', [0,0.01,0.1])\n",
    " 'ym0146', m_grp_train('ym0146', [0,5,20]) \n",
    " 'ym2058', m_grp_train('ym2058', [0,0.001,0.01,0.02])\n",
    " 'ym0340', m_grp_train('ym0340', [0,2,10,20,30])\n",
    " 'ym0360', m_grp_train('ym0360', [0,0.2,0.4,0.6,0.8])\n",
    " 'ym0383', m_grp_train('ym0383', [0,1]) #0.27\n",
    " 'ym0051', m_grp_train('ym0051', [0,1,2,100])\n",
    " 'ym0121', m_grp_train('ym0121', [0,1,2,10,20])\n",
    " 'MB001', m_grp_train('MB001', [0,500,1000,1500])\n",
    " 'TD009', m_grp_train('TD009', [0,5,10,15,20,25]) #1.05\n",
    " 'ym0027', m_grp_train('ym0027', [0,1]) #0.21\n",
    " 'ym0361', m_grp_train('ym0361', [0,0.2,0.4,0.6,0.8])\n",
    " 'ym2061', m_grp_train('ym2061', [0,0.1])\n",
    " 'ym2091', m_grp_train('ym2091', [0,20,40,60,80])\n",
    " 'CD109', m_grp_train('CD109', [-99,1000,10000])\n",
    " 'ym0358', m_grp_train('ym0358', [0,0.3,0.6,0.9]) #0.43\n",
    " 'ym0010', m_grp_train('ym0010', [0,0.2])\n",
    " 'AP003', gdf_train['AP003'] = df_train['AP003'].astype(str)\n",
    "gdf_train.loc[gdf_train['AP003'] == '1.0', 'AP003'] = '0.0'\n",
    "gdf_train.loc[gdf_train['AP003'] == '2.0', 'AP003'] = '0.0'\n",
    "gdf_train.loc[gdf_train['AP003'] == '6.0', 'AP003'] = '5.0' #1.11\n",
    " 'ym0294', m_grp_train('ym0294', [0,0.01,0.02,0.03])\n",
    " 'ym0021', m_grp_train('ym0021', [0,100,200,300]) #0.28\n",
    " 'ym0155', m_grp_train('ym0155', [0,100,200,300]) #0.59\n",
    " 'ym0660', m_grp_train('ym0660', [0,1,25,50]) \n",
    " 'ym0312', m_grp_train('ym0312', [0,0.01,0.05,0.1])\n",
    " 'ym2156', m_grp_train('ym2156', [0,10,20,30,40,50]) #0.51\n",
    " 'TD012', gdf_train['TD012'] = df_train['TD012'].astype(str)\n",
    "gdf_train.loc[gdf_train['TD012'] == '2.0', 'TD012'] = '1.0' #0.53\n",
    " 'TD001', m_grp_train('TD001', [0,1,2,3,4,5,6,7,8,9,10]) #1.8\n",
    " 'AP004', gdf_train['AP004'] = train_set['AP004'].astype(str) #2.05\n",
    " 'MB005', m_grp_train('MB005', [0,10,15])\n",
    " 'ym0049', m_grp_train('ym0049', [0,1,50,100])\n",
    " 'ym0278', m_grp_train('ym0278', [0,0.01,0.02,0.03])\n",
    " 'ym0384', gdf_train['ym0384'] = df_train['ym0384'].astype(str)\n",
    "gdf_train.loc[gdf_train['ym0384'] == '2.0', 'ym0384'] = '1.0' \n",
    " 'ym2068', m_grp_train('ym2068', [0,5,10,15])\n",
    " 'ym0286', m_grp_train('ym0286', [0,0.001,0.01]) \n",
    " 'ym0302', m_grp_train('ym0302', [0,0.001,0.01]) #0.21\n",
    " 'ym0036', m_grp_train('ym0036', [0,1,3])\n",
    " 'TD002', m_grp_train('TD002', [0,1,3,5,7]) #1.03\n",
    " 'ym0003', m_grp_train('ym0003', [0,100,400])\n",
    " 'ym2057', m_grp_train('ym2057', [0,0.02,0.03])\n",
    " 'ym0211', m_grp_train('ym0211', [0,1,200,400,600,800]) \n",
    " 'ym0198', m_grp_train('ym0198', [0,1,3,5])\n",
    " 'CD164', m_grp_train('CD164', [-99,0,50])\n",
    " 'CD169', m_grp_train('CD169', [-99,2000,5000]) \n",
    " 'CD106', m_grp_train('CD106', [-99,50,100])\n",
    " 'ym2014', m_grp_train('ym2014', [0,0.01,0.03,0.05,0.07,0.1])\n",
    " 'CR007', gdf_train['CR007'] = train['CR007'].astype(str)\n",
    "gdf_train.loc[gdf_train['CR007'] == '2.0', 'CR007'] = '3.0'\n",
    " 'ym0800', m_grp_train('ym0800', [0,1,10,20,30,40])\n",
    " 'ym0177', m_grp_train('ym0177', [0,1,50,100]) #0.4\n",
    " 'ym2618', m_grp_train('ym2618', [0,10,20])\n",
    " 'ym2022', m_grp_train('ym2022', [0,0.01])\n",
    " 'MB006'] gdf_train['MB006'] = train_set['MB006'].astype(str) \n"
   ]
  },
  {
   "cell_type": "code",
   "execution_count": null,
   "metadata": {},
   "outputs": [],
   "source": [
    "m_grp_test('ym2309', [0,10,20,30])\n",
    "m_grp_test('ym0316', [0,0.01]) \n",
    "m_grp_test('ym2253', [0,20,40])\n",
    "m_grp_test('ym0289', [0,0.01])\n",
    "gdf_test['CR015'] = test['CR015'].astype(str)\n",
    "gdf_test.loc[gdf_test['CR015'] == '2.0', 'CR015'] = '0.0'\n",
    "gdf_test.loc[gdf_test['CR015'] == '3.0', 'CR015'] = '0.0'\n",
    "gdf_test.loc[gdf_test['CR015'] == '5.0', 'CR015'] = '6.0'\n",
    "gdf_test.loc[gdf_test['CR015'] == '1.0', 'CR015'] = '0.0'\n",
    "gdf_test.loc[gdf_test['CR015'] == '4.0', 'CR015'] = '6.0' \n",
    "m_grp_test('CR009', [0,50000,100000]) \n",
    "gdf_test['AP002'] = test['AP002'].astype(str) \n",
    "m_grp_test('ym0079', [0,0.01,50])\n",
    "gdf_test['ym0122'] = test['ym0122'].astype(str)\n",
    "gdf_test.loc[gdf_test['ym0122'] == '4.0', 'ym0122'] = '3.0'\n",
    "gdf_test.loc[gdf_test['ym0122'] == '5.0', 'ym0122'] = '3.0'\n",
    "gdf_test.loc[gdf_test['ym0122'] == '6.0', 'ym0122'] = '3.0'\n",
    "m_grp_test('ym2045', [0,0.1,0.2,0.3])\n",
    "m_grp_test('ym2333', [0,0.7,0.8,0.9])\n",
    "gdf_test['TD016'] = test['TD016'].astype(str)\n",
    "gdf_test.loc[gdf_test['TD016'] == '3.0', 'TD016'] = '2.0'\n",
    "m_grp_test('ym0357', [0,0.5,0.7,0.9])\n",
    "m_grp_test('CR021', [-50000,10000,50000])\n",
    "m_grp_test('ym0267', [0,0.6,0.9]) \n",
    "m_grp_test('ym0305', [0,0.01,0.05,0.2])\n",
    "m_grp_test('ym2041', [0,0.001,0.005,0.01,0.02])\n",
    "m_grp_test('ym0004', [0,0.2,0.3])\n",
    "m_grp_test('CD118', [-99,0,500])\n",
    "m_grp_test('ym2038', [0,0.0001,0.1])\n",
    "gdf_test['AP006'] = test['AP006'].astype(str)\n",
    "m_grp_test('ym0329', [0,0.2,0.4]) \n",
    "m_grp_test('CD119', [-99,0,300])\n",
    "m_grp_test('ym0317', [0,0.01,0.05])\n",
    "m_grp_test('ym0646', [0,1,100]) #0.2\n",
    "gdf_test['CR008'] = test['CR008'].astype(str) #0.52\n",
    "m_grp_test('ym2040', [0,0.01,0.02,0.05])\n",
    "m_grp_test('ym0296', [0,0.01,0.1])\n",
    "m_grp_test('ym0146', [0,5,20]) \n",
    "m_grp_test('ym2058', [0,0.001,0.01,0.02])\n",
    "m_grp_test('ym0340', [0,2,10,20,30])\n",
    "m_grp_test('ym0360', [0,0.2,0.4,0.6,0.8])\n",
    "m_grp_test('ym0383', [0,1]) #0.27\n",
    "m_grp_test('ym0051', [0,1,2,100])\n",
    "m_grp_test('ym0121', [0,1,2,10,20])\n",
    "m_grp_test('MB001', [0,500,1000,1500])\n",
    "m_grp_test('TD009', [0,5,10,15,20,25]) #1.05\n",
    "m_grp_test('ym0027', [0,1]) #0.21\n",
    "m_grp_test('ym0361', [0,0.2,0.4,0.6,0.8])\n",
    "m_grp_test('ym2061', [0,0.1])\n",
    "m_grp_test('ym2091', [0,20,40,60,80])\n",
    "m_grp_test('CD109', [-99,1000,10000])\n",
    "m_grp_test('ym0358', [0,0.3,0.6,0.9]) #0.43\n",
    "m_grp_test('ym0010', [0,0.2])\n",
    "gdf_test['AP003'] = test['AP003'].astype(str)\n",
    "gdf_test.loc[gdf_test['AP003'] == '1.0', 'AP003'] = '0.0'\n",
    "gdf_test.loc[gdf_test['AP003'] == '2.0', 'AP003'] = '0.0'\n",
    "gdf_test.loc[gdf_test['AP003'] == '6.0', 'AP003'] = '5.0' #1.11\n",
    "m_grp_test('ym0294', [0,0.01,0.02,0.03])\n",
    "m_grp_test('ym0021', [0,100,200,300]) #0.28\n",
    "m_grp_test('ym0155', [0,100,200,300]) #0.59\n",
    "m_grp_test('ym0660', [0,1,25,50]) \n",
    "m_grp_test('ym0312', [0,0.01,0.05,0.1])\n",
    "m_grp_test('ym2156', [0,10,20,30,40,50]) #0.51\n",
    "gdf_test['TD012'] = test['TD012'].astype(str)\n",
    "gdf_test.loc[gdf_test['TD012'] == '2.0', 'TD012'] = '1.0' \n",
    "m_grp_test('TD001', [0,1,2,3,4,5,6,7,8,9,10]) \n",
    "gdf_test['AP004'] = test['AP004'].astype(str) \n",
    "m_grp_test('MB005', [0,10,15])\n",
    "m_grp_test('ym0049', [0,1,50,100])\n",
    "m_grp_test('ym0278', [0,0.01,0.02,0.03])\n",
    "gdf_test['ym0384'] = test['ym0384'].astype(str)\n",
    "gdf_test.loc[gdf_test['ym0384'] == '2.0', 'ym0384'] = '1.0' \n",
    "m_grp_test('ym2068', [0,5,10,15])\n",
    "m_grp_test('ym0286', [0,0.001,0.01]) \n",
    "m_grp_test('ym0302', [0,0.001,0.01])\n",
    "m_grp_test('ym0036', [0,1,3])\n",
    "m_grp_test('TD002', [0,1,3,5,7])\n",
    "m_grp_test('ym0003', [0,100,400])\n",
    "m_grp_test('ym2057', [0,0.02,0.03])\n",
    "m_grp_test('ym0211', [0,1,200,400,600,800]) \n",
    "m_grp_test('ym0198', [0,1,3,5])\n",
    "m_grp_test('CD164', [-99,0,50])\n",
    "m_grp_test('CD169', [-99,2000,5000]) \n",
    "m_grp_test('CD106', [-99,50,100])\n",
    "m_grp_test('ym2014', [0,0.01,0.03,0.05,0.07,0.1])\n",
    "gdf_test['CR007'] = test['CR007'].astype(str)\n",
    "gdf_test.loc[gdf_test['CR007'] == '2.0', 'CR007'] = '3.0'\n",
    "m_grp_test('ym0800', [0,1,10,20,30,40])\n",
    "m_grp_test('ym0177', [0,1,50,100]) \n",
    "m_grp_test('ym2618', [0,10,20])\n",
    "m_grp_test('ym2022', [0,0.01])\n",
    "gdf_test['MB006'] = test['MB006'].astype(str) "
   ]
  },
  {
   "cell_type": "code",
   "execution_count": null,
   "metadata": {},
   "outputs": [],
   "source": [
    "multi_model = sm.formula.glm(\"bad30~C(ym2309)+C(ym0316)+C(ym2253)+C(ym0289)+C(CR015)+C(CR009)+C(AP002)+C(ym0079)+C(ym0122)\\\n",
    "+C(ym2045)+C(ym2333)+C(TD016)+C(ym0357)+C(CR021)+C(ym0267)+C(ym0305)+C(ym2041)+C(ym0004)+C(CD118)+C(ym2038)+C(AP006)+C(ym0329)\\\n",
    "+C(CD119)+C(ym0317)+C(ym0646)+C(CR008)+C(ym2040)+C(ym0296)+C(ym0146)+C(ym2058)+C(ym0340)+C(ym0360)+C(ym0383)+C(ym0051)\\\n",
    "+C(ym0121)+C(MB001)+C(TD009)+C(ym0027)+C(ym0361)+C(ym2061)+C(ym2091)+C(CD109)+C(ym0358)+C(ym0010)+C(AP003)+C(ym0294)+C(ym0021)\\\n",
    "+C(ym0155)+C(ym0660)+C(ym0312)+C(ym2156)+C(TD012)+C(TD001)+C(AP004)+C(MB005)+C(ym0049)+C(ym0278)+C(ym0384)+C(ym2068)+C(ym0286)\\\n",
    "+C(ym0302)+C(ym0036)+C(TD002)+C(ym0003)+C(ym2057)+C(ym0211)+C(ym0198)+C(CD164)+C(CD169)+C(CD106)+C(ym2014)+C(CR007)+C(ym0800)\\\n",
    "+C(ym0177)+C(ym2618)+C(ym2022)+C(MB006)\"\\\n",
    "                             , data=gdf_train, family=sm.families.Binomial()).fit()\n",
    "print(multi_model.summary())"
   ]
  },
  {
   "cell_type": "code",
   "execution_count": 479,
   "metadata": {},
   "outputs": [
    {
     "name": "stdout",
     "output_type": "stream",
     "text": [
      "Checking whether there is an H2O instance running at http://localhost:54321 ..... not found.\n",
      "Attempting to start a local H2O server...\n",
      "; OpenJDK 64-Bit Server VM (build 25.152-b12, mixed mode)56-b12)\n",
      "  Starting server from D:\\Anaconda\\lib\\site-packages\\h2o\\backend\\bin\\h2o.jar\n",
      "  Ice root: C:\\Users\\Mike\\AppData\\Local\\Temp\\tmp5xk0sigc\n",
      "  JVM stdout: C:\\Users\\Mike\\AppData\\Local\\Temp\\tmp5xk0sigc\\h2o_Mike_started_from_python.out\n",
      "  JVM stderr: C:\\Users\\Mike\\AppData\\Local\\Temp\\tmp5xk0sigc\\h2o_Mike_started_from_python.err\n",
      "  Server is running at http://127.0.0.1:54321\n",
      "Connecting to H2O server at http://127.0.0.1:54321 ... successful.\n"
     ]
    },
    {
     "data": {
      "text/html": [
       "<div style=\"overflow:auto\"><table style=\"width:50%\"><tr><td>H2O cluster uptime:</td>\n",
       "<td>01 secs</td></tr>\n",
       "<tr><td>H2O cluster timezone:</td>\n",
       "<td>America/New_York</td></tr>\n",
       "<tr><td>H2O data parsing timezone:</td>\n",
       "<td>UTC</td></tr>\n",
       "<tr><td>H2O cluster version:</td>\n",
       "<td>3.26.0.10</td></tr>\n",
       "<tr><td>H2O cluster version age:</td>\n",
       "<td>27 days </td></tr>\n",
       "<tr><td>H2O cluster name:</td>\n",
       "<td>H2O_from_python_Mike_s9qr7u</td></tr>\n",
       "<tr><td>H2O cluster total nodes:</td>\n",
       "<td>1</td></tr>\n",
       "<tr><td>H2O cluster free memory:</td>\n",
       "<td>3.516 Gb</td></tr>\n",
       "<tr><td>H2O cluster total cores:</td>\n",
       "<td>12</td></tr>\n",
       "<tr><td>H2O cluster allowed cores:</td>\n",
       "<td>12</td></tr>\n",
       "<tr><td>H2O cluster status:</td>\n",
       "<td>accepting new members, healthy</td></tr>\n",
       "<tr><td>H2O connection url:</td>\n",
       "<td>http://127.0.0.1:54321</td></tr>\n",
       "<tr><td>H2O connection proxy:</td>\n",
       "<td>{'http': None, 'https': None}</td></tr>\n",
       "<tr><td>H2O internal security:</td>\n",
       "<td>False</td></tr>\n",
       "<tr><td>H2O API Extensions:</td>\n",
       "<td>Amazon S3, Algos, AutoML, Core V3, TargetEncoder, Core V4</td></tr>\n",
       "<tr><td>Python version:</td>\n",
       "<td>3.7.5 final</td></tr></table></div>"
      ],
      "text/plain": [
       "--------------------------  ---------------------------------------------------------\n",
       "H2O cluster uptime:         01 secs\n",
       "H2O cluster timezone:       America/New_York\n",
       "H2O data parsing timezone:  UTC\n",
       "H2O cluster version:        3.26.0.10\n",
       "H2O cluster version age:    27 days\n",
       "H2O cluster name:           H2O_from_python_Mike_s9qr7u\n",
       "H2O cluster total nodes:    1\n",
       "H2O cluster free memory:    3.516 Gb\n",
       "H2O cluster total cores:    12\n",
       "H2O cluster allowed cores:  12\n",
       "H2O cluster status:         accepting new members, healthy\n",
       "H2O connection url:         http://127.0.0.1:54321\n",
       "H2O connection proxy:       {'http': None, 'https': None}\n",
       "H2O internal security:      False\n",
       "H2O API Extensions:         Amazon S3, Algos, AutoML, Core V3, TargetEncoder, Core V4\n",
       "Python version:             3.7.5 final\n",
       "--------------------------  ---------------------------------------------------------"
      ]
     },
     "metadata": {},
     "output_type": "display_data"
    }
   ],
   "source": [
    "import h2o\n",
    "h2o.init()"
   ]
  },
  {
   "cell_type": "code",
   "execution_count": 480,
   "metadata": {},
   "outputs": [],
   "source": [
    "from h2o.automl import H2OAutoML"
   ]
  },
  {
   "cell_type": "code",
   "execution_count": 493,
   "metadata": {},
   "outputs": [],
   "source": [
    "predictors = finallist\n",
    "target = 'bad30'"
   ]
  },
  {
   "cell_type": "code",
   "execution_count": 494,
   "metadata": {},
   "outputs": [
    {
     "name": "stdout",
     "output_type": "stream",
     "text": [
      "Parse progress: |█████████████████████████████████████████████████████████| 100%\n",
      "Parse progress: |█████████████████████████████████████████████████████████| 100%\n"
     ]
    }
   ],
   "source": [
    "train_hex = h2o.H2OFrame(gdf_train)\n",
    "test_hex = h2o.H2OFrame(gdf_test)"
   ]
  },
  {
   "cell_type": "code",
   "execution_count": 495,
   "metadata": {},
   "outputs": [
    {
     "name": "stdout",
     "output_type": "stream",
     "text": [
      "AutoML progress: |████████████████████████████████████████████████████████| 100%\n"
     ]
    }
   ],
   "source": [
    "aml = H2OAutoML(max_runtime_secs = 300, max_models=20, seed=1)\n",
    "aml.train(predictors,target,training_frame=train_hex)"
   ]
  },
  {
   "cell_type": "markdown",
   "metadata": {},
   "source": [
    "## Model ranking by h2o"
   ]
  },
  {
   "cell_type": "code",
   "execution_count": 496,
   "metadata": {
    "scrolled": true
   },
   "outputs": [
    {
     "data": {
      "text/html": [
       "<table>\n",
       "<thead>\n",
       "<tr><th>model_id                                           </th><th style=\"text-align: right;\">  mean_residual_deviance</th><th style=\"text-align: right;\">    rmse</th><th style=\"text-align: right;\">     mse</th><th style=\"text-align: right;\">     mae</th><th style=\"text-align: right;\">   rmsle</th></tr>\n",
       "</thead>\n",
       "<tbody>\n",
       "<tr><td>StackedEnsemble_AllModels_AutoML_20191204_174055   </td><td style=\"text-align: right;\">                0.14683 </td><td style=\"text-align: right;\">0.383184</td><td style=\"text-align: right;\">0.14683 </td><td style=\"text-align: right;\">0.294167</td><td style=\"text-align: right;\">0.268955</td></tr>\n",
       "<tr><td>StackedEnsemble_BestOfFamily_AutoML_20191204_174055</td><td style=\"text-align: right;\">                0.146861</td><td style=\"text-align: right;\">0.383225</td><td style=\"text-align: right;\">0.146861</td><td style=\"text-align: right;\">0.29434 </td><td style=\"text-align: right;\">0.269   </td></tr>\n",
       "<tr><td>GLM_grid_1_AutoML_20191204_174055_model_1          </td><td style=\"text-align: right;\">                0.147345</td><td style=\"text-align: right;\">0.383855</td><td style=\"text-align: right;\">0.147345</td><td style=\"text-align: right;\">0.296301</td><td style=\"text-align: right;\">0.269496</td></tr>\n",
       "<tr><td>GBM_2_AutoML_20191204_174055                       </td><td style=\"text-align: right;\">                0.147672</td><td style=\"text-align: right;\">0.384281</td><td style=\"text-align: right;\">0.147672</td><td style=\"text-align: right;\">0.295153</td><td style=\"text-align: right;\">0.269706</td></tr>\n",
       "<tr><td>GBM_1_AutoML_20191204_174055                       </td><td style=\"text-align: right;\">                0.147696</td><td style=\"text-align: right;\">0.384312</td><td style=\"text-align: right;\">0.147696</td><td style=\"text-align: right;\">0.295963</td><td style=\"text-align: right;\">0.269663</td></tr>\n",
       "<tr><td>GBM_5_AutoML_20191204_174055                       </td><td style=\"text-align: right;\">                0.147906</td><td style=\"text-align: right;\">0.384585</td><td style=\"text-align: right;\">0.147906</td><td style=\"text-align: right;\">0.294239</td><td style=\"text-align: right;\">0.27016 </td></tr>\n",
       "<tr><td>GBM_3_AutoML_20191204_174055                       </td><td style=\"text-align: right;\">                0.147955</td><td style=\"text-align: right;\">0.384649</td><td style=\"text-align: right;\">0.147955</td><td style=\"text-align: right;\">0.295153</td><td style=\"text-align: right;\">0.270052</td></tr>\n",
       "<tr><td>GBM_4_AutoML_20191204_174055                       </td><td style=\"text-align: right;\">                0.148548</td><td style=\"text-align: right;\">0.385419</td><td style=\"text-align: right;\">0.148548</td><td style=\"text-align: right;\">0.295074</td><td style=\"text-align: right;\">0.270856</td></tr>\n",
       "<tr><td>DeepLearning_1_AutoML_20191204_174055              </td><td style=\"text-align: right;\">                0.148753</td><td style=\"text-align: right;\">0.385685</td><td style=\"text-align: right;\">0.148753</td><td style=\"text-align: right;\">0.29413 </td><td style=\"text-align: right;\">0.270221</td></tr>\n",
       "<tr><td>DRF_1_AutoML_20191204_174055                       </td><td style=\"text-align: right;\">                0.14997 </td><td style=\"text-align: right;\">0.387259</td><td style=\"text-align: right;\">0.14997 </td><td style=\"text-align: right;\">0.299499</td><td style=\"text-align: right;\">0.273592</td></tr>\n",
       "</tbody>\n",
       "</table>"
      ]
     },
     "metadata": {},
     "output_type": "display_data"
    },
    {
     "data": {
      "text/plain": []
     },
     "execution_count": 496,
     "metadata": {},
     "output_type": "execute_result"
    }
   ],
   "source": [
    "aml.leaderboard.head()"
   ]
  },
  {
   "cell_type": "markdown",
   "metadata": {},
   "source": [
    "## Evaluation"
   ]
  },
  {
   "cell_type": "code",
   "execution_count": 497,
   "metadata": {},
   "outputs": [],
   "source": [
    "def createGains(model):\n",
    "    predictions = model.predict(test_hex)\n",
    "    test_scores = test_hex['bad30'].cbind(predictions).as_data_frame()\n",
    "\n",
    "    #sort on prediction (descending), add id, and decile for groups containing 1/10 of datapoints\n",
    "    test_scores = test_scores.sort_values(by='predict',ascending=False)\n",
    "    test_scores['row_id'] = range(0,0+len(test_scores))\n",
    "    test_scores['decile'] = ( test_scores['row_id'] / (len(test_scores)/10) ).astype(int)\n",
    "    #see count by decile\n",
    "    test_scores.loc[test_scores['decile'] == 10]=9\n",
    "    test_scores['decile'].value_counts()\n",
    "\n",
    "    #create gains table\n",
    "    gains = test_scores.groupby('decile')['bad30'].agg(['count','sum'])\n",
    "    gains.columns = ['count','actual']\n",
    "    gains\n",
    "\n",
    "    #add features to gains table\n",
    "    gains['non_actual'] = gains['count'] - gains['actual']\n",
    "    gains['cum_count'] = gains['count'].cumsum()\n",
    "    gains['cum_actual'] = gains['actual'].cumsum()\n",
    "    gains['cum_non_actual'] = gains['non_actual'].cumsum()\n",
    "    gains['percent_cum_actual'] = (gains['cum_actual'] / np.max(gains['cum_actual'])).round(2)\n",
    "    gains['percent_cum_non_actual'] = (gains['cum_non_actual'] / np.max(gains['cum_non_actual'])).round(2)\n",
    "    gains['if_random'] = np.max(gains['cum_actual']) /10 \n",
    "    gains['if_random'] = gains['if_random'].cumsum()\n",
    "    gains['lift'] = (gains['cum_actual'] / gains['if_random']).round(2)\n",
    "    gains['K_S'] = np.abs( gains['percent_cum_actual'] -  gains['percent_cum_non_actual'] ) * 100\n",
    "    gains['gain']=(gains['cum_actual']/gains['cum_count']*100).round(2)\n",
    "    gains = pd.DataFrame(gains)\n",
    "    return(gains)"
   ]
  },
  {
   "cell_type": "code",
   "execution_count": 498,
   "metadata": {},
   "outputs": [
    {
     "name": "stdout",
     "output_type": "stream",
     "text": [
      "stackedensemble prediction progress: |████████████████████████████████████| 100%\n"
     ]
    },
    {
     "data": {
      "text/html": [
       "<div>\n",
       "<style scoped>\n",
       "    .dataframe tbody tr th:only-of-type {\n",
       "        vertical-align: middle;\n",
       "    }\n",
       "\n",
       "    .dataframe tbody tr th {\n",
       "        vertical-align: top;\n",
       "    }\n",
       "\n",
       "    .dataframe thead th {\n",
       "        text-align: right;\n",
       "    }\n",
       "</style>\n",
       "<table border=\"1\" class=\"dataframe\">\n",
       "  <thead>\n",
       "    <tr style=\"text-align: right;\">\n",
       "      <th></th>\n",
       "      <th>count</th>\n",
       "      <th>actual</th>\n",
       "      <th>non_actual</th>\n",
       "      <th>cum_count</th>\n",
       "      <th>cum_actual</th>\n",
       "      <th>cum_non_actual</th>\n",
       "      <th>percent_cum_actual</th>\n",
       "      <th>percent_cum_non_actual</th>\n",
       "      <th>if_random</th>\n",
       "      <th>lift</th>\n",
       "      <th>K_S</th>\n",
       "      <th>gain</th>\n",
       "    </tr>\n",
       "    <tr>\n",
       "      <th>decile</th>\n",
       "      <th></th>\n",
       "      <th></th>\n",
       "      <th></th>\n",
       "      <th></th>\n",
       "      <th></th>\n",
       "      <th></th>\n",
       "      <th></th>\n",
       "      <th></th>\n",
       "      <th></th>\n",
       "      <th></th>\n",
       "      <th></th>\n",
       "      <th></th>\n",
       "    </tr>\n",
       "  </thead>\n",
       "  <tbody>\n",
       "    <tr>\n",
       "      <th>0</th>\n",
       "      <td>1999</td>\n",
       "      <td>702</td>\n",
       "      <td>1297</td>\n",
       "      <td>1999</td>\n",
       "      <td>702</td>\n",
       "      <td>1297</td>\n",
       "      <td>0.18</td>\n",
       "      <td>0.08</td>\n",
       "      <td>381.5</td>\n",
       "      <td>1.84</td>\n",
       "      <td>10.0</td>\n",
       "      <td>35.12</td>\n",
       "    </tr>\n",
       "    <tr>\n",
       "      <th>1</th>\n",
       "      <td>1998</td>\n",
       "      <td>580</td>\n",
       "      <td>1418</td>\n",
       "      <td>3997</td>\n",
       "      <td>1282</td>\n",
       "      <td>2715</td>\n",
       "      <td>0.34</td>\n",
       "      <td>0.17</td>\n",
       "      <td>763.0</td>\n",
       "      <td>1.68</td>\n",
       "      <td>17.0</td>\n",
       "      <td>32.07</td>\n",
       "    </tr>\n",
       "    <tr>\n",
       "      <th>2</th>\n",
       "      <td>1998</td>\n",
       "      <td>506</td>\n",
       "      <td>1492</td>\n",
       "      <td>5995</td>\n",
       "      <td>1788</td>\n",
       "      <td>4207</td>\n",
       "      <td>0.47</td>\n",
       "      <td>0.26</td>\n",
       "      <td>1144.5</td>\n",
       "      <td>1.56</td>\n",
       "      <td>21.0</td>\n",
       "      <td>29.82</td>\n",
       "    </tr>\n",
       "    <tr>\n",
       "      <th>3</th>\n",
       "      <td>1999</td>\n",
       "      <td>452</td>\n",
       "      <td>1547</td>\n",
       "      <td>7994</td>\n",
       "      <td>2240</td>\n",
       "      <td>5754</td>\n",
       "      <td>0.59</td>\n",
       "      <td>0.36</td>\n",
       "      <td>1526.0</td>\n",
       "      <td>1.47</td>\n",
       "      <td>23.0</td>\n",
       "      <td>28.02</td>\n",
       "    </tr>\n",
       "    <tr>\n",
       "      <th>4</th>\n",
       "      <td>1998</td>\n",
       "      <td>403</td>\n",
       "      <td>1595</td>\n",
       "      <td>9992</td>\n",
       "      <td>2643</td>\n",
       "      <td>7349</td>\n",
       "      <td>0.69</td>\n",
       "      <td>0.45</td>\n",
       "      <td>1907.5</td>\n",
       "      <td>1.39</td>\n",
       "      <td>24.0</td>\n",
       "      <td>26.45</td>\n",
       "    </tr>\n",
       "    <tr>\n",
       "      <th>5</th>\n",
       "      <td>1998</td>\n",
       "      <td>364</td>\n",
       "      <td>1634</td>\n",
       "      <td>11990</td>\n",
       "      <td>3007</td>\n",
       "      <td>8983</td>\n",
       "      <td>0.79</td>\n",
       "      <td>0.56</td>\n",
       "      <td>2289.0</td>\n",
       "      <td>1.31</td>\n",
       "      <td>23.0</td>\n",
       "      <td>25.08</td>\n",
       "    </tr>\n",
       "    <tr>\n",
       "      <th>6</th>\n",
       "      <td>1999</td>\n",
       "      <td>319</td>\n",
       "      <td>1680</td>\n",
       "      <td>13989</td>\n",
       "      <td>3326</td>\n",
       "      <td>10663</td>\n",
       "      <td>0.87</td>\n",
       "      <td>0.66</td>\n",
       "      <td>2670.5</td>\n",
       "      <td>1.25</td>\n",
       "      <td>21.0</td>\n",
       "      <td>23.78</td>\n",
       "    </tr>\n",
       "    <tr>\n",
       "      <th>7</th>\n",
       "      <td>1998</td>\n",
       "      <td>246</td>\n",
       "      <td>1752</td>\n",
       "      <td>15987</td>\n",
       "      <td>3572</td>\n",
       "      <td>12415</td>\n",
       "      <td>0.94</td>\n",
       "      <td>0.77</td>\n",
       "      <td>3052.0</td>\n",
       "      <td>1.17</td>\n",
       "      <td>17.0</td>\n",
       "      <td>22.34</td>\n",
       "    </tr>\n",
       "    <tr>\n",
       "      <th>8</th>\n",
       "      <td>1998</td>\n",
       "      <td>169</td>\n",
       "      <td>1829</td>\n",
       "      <td>17985</td>\n",
       "      <td>3741</td>\n",
       "      <td>14244</td>\n",
       "      <td>0.98</td>\n",
       "      <td>0.88</td>\n",
       "      <td>3433.5</td>\n",
       "      <td>1.09</td>\n",
       "      <td>10.0</td>\n",
       "      <td>20.80</td>\n",
       "    </tr>\n",
       "    <tr>\n",
       "      <th>9</th>\n",
       "      <td>1998</td>\n",
       "      <td>74</td>\n",
       "      <td>1924</td>\n",
       "      <td>19983</td>\n",
       "      <td>3815</td>\n",
       "      <td>16168</td>\n",
       "      <td>1.00</td>\n",
       "      <td>1.00</td>\n",
       "      <td>3815.0</td>\n",
       "      <td>1.00</td>\n",
       "      <td>0.0</td>\n",
       "      <td>19.09</td>\n",
       "    </tr>\n",
       "  </tbody>\n",
       "</table>\n",
       "</div>"
      ],
      "text/plain": [
       "        count  actual  non_actual  cum_count  cum_actual  cum_non_actual  \\\n",
       "decile                                                                     \n",
       "0        1999     702        1297       1999         702            1297   \n",
       "1        1998     580        1418       3997        1282            2715   \n",
       "2        1998     506        1492       5995        1788            4207   \n",
       "3        1999     452        1547       7994        2240            5754   \n",
       "4        1998     403        1595       9992        2643            7349   \n",
       "5        1998     364        1634      11990        3007            8983   \n",
       "6        1999     319        1680      13989        3326           10663   \n",
       "7        1998     246        1752      15987        3572           12415   \n",
       "8        1998     169        1829      17985        3741           14244   \n",
       "9        1998      74        1924      19983        3815           16168   \n",
       "\n",
       "        percent_cum_actual  percent_cum_non_actual  if_random  lift   K_S  \\\n",
       "decile                                                                      \n",
       "0                     0.18                    0.08      381.5  1.84  10.0   \n",
       "1                     0.34                    0.17      763.0  1.68  17.0   \n",
       "2                     0.47                    0.26     1144.5  1.56  21.0   \n",
       "3                     0.59                    0.36     1526.0  1.47  23.0   \n",
       "4                     0.69                    0.45     1907.5  1.39  24.0   \n",
       "5                     0.79                    0.56     2289.0  1.31  23.0   \n",
       "6                     0.87                    0.66     2670.5  1.25  21.0   \n",
       "7                     0.94                    0.77     3052.0  1.17  17.0   \n",
       "8                     0.98                    0.88     3433.5  1.09  10.0   \n",
       "9                     1.00                    1.00     3815.0  1.00   0.0   \n",
       "\n",
       "         gain  \n",
       "decile         \n",
       "0       35.12  \n",
       "1       32.07  \n",
       "2       29.82  \n",
       "3       28.02  \n",
       "4       26.45  \n",
       "5       25.08  \n",
       "6       23.78  \n",
       "7       22.34  \n",
       "8       20.80  \n",
       "9       19.09  "
      ]
     },
     "execution_count": 498,
     "metadata": {},
     "output_type": "execute_result"
    }
   ],
   "source": [
    "createGains(aml)"
   ]
  }
 ],
 "metadata": {
  "kernelspec": {
   "display_name": "Python 3",
   "language": "python",
   "name": "python3"
  },
  "language_info": {
   "codemirror_mode": {
    "name": "ipython",
    "version": 3
   },
   "file_extension": ".py",
   "mimetype": "text/x-python",
   "name": "python",
   "nbconvert_exporter": "python",
   "pygments_lexer": "ipython3",
   "version": "3.7.3"
  },
  "toc": {
   "base_numbering": 1,
   "nav_menu": {},
   "number_sections": true,
   "sideBar": true,
   "skip_h1_title": false,
   "title_cell": "Table of Contents",
   "title_sidebar": "Contents",
   "toc_cell": false,
   "toc_position": {},
   "toc_section_display": true,
   "toc_window_display": true
  }
 },
 "nbformat": 4,
 "nbformat_minor": 2
}
